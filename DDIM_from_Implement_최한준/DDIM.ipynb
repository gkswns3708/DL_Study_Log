{
 "cells": [
  {
   "cell_type": "markdown",
   "metadata": {},
   "source": [
    "## DDIM Sampler\n",
    "\n",
    "This extends the DiffusionSampler base class.\n",
    "DDIM samples images by repeatedly removing noise by sampling step by step using\n",
    "$$\n",
    "\\bm{x}_{\\bm{\\tau}_{i-1}} = \\sqrt{\\bm{\\alpha}_{\\bm{\\tau}_{i-1}}}\n",
    "\\left(\n",
    "  \\frac\n",
    "  {\\bm{x}_{\\bm{\\tau}_i} - \\sqrt{1 - \\bm{\\alpha}_{\\bm{\\tau}_i}} \\bm{\\epsilon}_{\\bm{\\theta}}(\\bm{x}_{\\bm{\\tau}_i})}\n",
    "  {\\sqrt{\\bm{\\alpha}_{\\bm{\\tau}_i}}}\n",
    "\\right) \\\\\n",
    "+ \\sqrt{1 - \\bm{\\alpha}_{\\bm{\\tau}_{i-1}} - \\bm{\\sigma}^2_{\\bm{\\tau}_i} \\cdot \\bm{\\epsilon}_{\\bm{\\theta}}(\\bm{x}_{\\bm{\\tau}_i})} \\\\\n",
    "+ \\bm{\\sigma}_{\\bm{\\tau}_i} \\bm{\\epsilon}_{\\bm{\\tau}_i},\n",
    "\n",
    "$$\n",
    "\n",
    "where $\\epsilon_{\\tau_i}$ is random noise, $\\tau$ is a subsequences of $[1, 2, \\dots, T]$ of length $S$, and \n",
    "$$\n",
    "\\bm{\\sigma}_{\\bm{\\tau}_i} = \\bm{\\eta} \n",
    "\\sqrt{\n",
    "  \\frac\n",
    "  {1 - \\bm{\\alpha}_{\\bm{\\tau}_{i-1}}}\n",
    "  {1 - \\bm{\\alpha}_{\\bm{\\tau}_i}}\n",
    "  \\sqrt{\n",
    "    \\frac\n",
    "    {1 - \\bm{\\alpha}_{\\bm{\\tau}_i}}\n",
    "    {\\bm{\\alpha}_{\\bm{\\tau}_{i-1}}}\n",
    "  }\n",
    "},\n",
    "\n",
    "$$\n",
    "Note that, $\\alpha_t$ in DDIM paper referes to $\\bar{\\alpha_t}$ from _DDPM_\n"
   ]
  },
  {
   "cell_type": "code",
   "execution_count": null,
   "metadata": {},
   "outputs": [],
   "source": []
  }
 ],
 "metadata": {
  "language_info": {
   "name": "python"
  },
  "orig_nbformat": 4
 },
 "nbformat": 4,
 "nbformat_minor": 2
}
