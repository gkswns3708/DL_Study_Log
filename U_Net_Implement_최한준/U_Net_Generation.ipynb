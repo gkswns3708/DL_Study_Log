{
 "cells": [
  {
   "cell_type": "code",
   "execution_count": 2,
   "metadata": {},
   "outputs": [],
   "source": [
    "import random\n",
    "import pandas as pd\n",
    "import numpy as np\n",
    "import os\n",
    "from glob import glob \n",
    "import cv2\n",
    "import argparse\n",
    "\n"
   ]
  },
  {
   "cell_type": "code",
   "execution_count": 3,
   "metadata": {},
   "outputs": [
    {
     "ename": "",
     "evalue": "",
     "output_type": "error",
     "traceback": [
      "현재 셀 또는 이전 셀에서 코드를 실행하는 동안 Kernel이 충돌했습니다. 셀의 코드를 검토하여 오류의 가능한 원인을 식별하세요. 자세한 내용을 보려면 <a href='https://aka.ms/vscodeJupyterKernelCrash'> 여기 </a> 를 클릭하세요. 자세한 내용은 Jupyter <a href='command:jupyter.viewOutput'>로그</a>를 참조하세요."
     ]
    },
    {
     "ename": "",
     "evalue": "",
     "output_type": "error",
     "traceback": [
      "\u001b[1;31mCanceled future for execute_request message before replies were done"
     ]
    }
   ],
   "source": [
    "import torch\n",
    "import torch.nn as nn\n",
    "import torch.optim as optim\n",
    "import torch.nn.functional as F\n",
    "from torch.utils.data import Dataset, DataLoader\n"
   ]
  },
  {
   "cell_type": "code",
   "execution_count": 1,
   "metadata": {},
   "outputs": [],
   "source": [
    "import matplotlib.pyplot as plt\n",
    "\n",
    "from tqdm import tqdm\n",
    "\n",
    "import warnings"
   ]
  },
  {
   "cell_type": "code",
   "execution_count": null,
   "metadata": {},
   "outputs": [],
   "source": [
    "USE_CUDA = True if torch.cuda.is_available() else False\n",
    "DEVICE = 'cuda' if USE_CUDA else 'cpu'\n",
    "\n",
    "parser = argparse.ArgumentParser()\n",
    "parser.add_argument('--epochs', type=int, default=10)\n",
    "parser.add_argument('--batch_size', type=int, default=1)\n",
    "parser.add_argument('--lr',type=float, default=1e-3)\n",
    "parser.add_argument('--seed', type=int, default=99)\n",
    "parser.add_argument('--L1_lambda', type=float, default=100.0)\n",
    "parser.add_argument('--b1', type=float, default=0.5)\n",
    "parser.add_argument('--b2', type=float, default=0.999)\n",
    "args = parser.parse_args('')"
   ]
  },
  {
   "cell_type": "code",
   "execution_count": null,
   "metadata": {},
   "outputs": [],
   "source": [
    "def seed_everything(seed):\n",
    "  random.seed(seed)\n",
    "  os.environ['PYTHONHASHSEED'] = str(seed)\n",
    "  np.random.seed(seed)\n",
    "  torch.manual_seed(seed)\n",
    "  torch.cuda.manual_seed(seed)\n",
    "  torch.backends.cudnn.deterministic = True\n",
    "  torch.backends.cudnn.benchmark = True\n",
    "\n",
    "seed_everything(args.seed)"
   ]
  },
  {
   "cell_type": "code",
   "execution_count": null,
   "metadata": {},
   "outputs": [],
   "source": [
    "class CBR2d(nn.Module):\n",
    "  def __init__(self,\n",
    "    in_channel,\n",
    "    out_channel,\n",
    "    kernel_size = 3,\n",
    "    stride = 1,\n",
    "    padding = 0,\n",
    "    bias = False,\n",
    "    norm = True\n",
    "  ):\n",
    "    super().__init__()\n",
    "\n",
    "    layer = [\n",
    "      nn.Conv2d(\n",
    "        in_channels=in_channel,\n",
    "        out_channels=out_channel,\n",
    "        kernel_size=kernel_size,\n",
    "        padding=padding,\n",
    "        stride=stride,\n",
    "        bias=bias\n",
    "      )\n",
    "    ]\n",
    "\n",
    "    if norm:\n",
    "      layer.append(nn.BatchNorm2d(out_channel))\n",
    "    \n",
    "    layer.append(nn.LeakyReLU(0.2, inplace=True))\n",
    "\n",
    "    self.enc = nn.Sequential(*layer)\n",
    "\n",
    "  def forward(self, x):\n",
    "    return self.enc(x)\n",
    "\n",
    "\n",
    "class DECBR2d(nn.Module):\n",
    "  def __init__(self,\n",
    "    in_channel,\n",
    "    out_channel,\n",
    "    kernel_size = 3,\n",
    "    stride = 1,\n",
    "    padding = 0,\n",
    "    bias = False,\n",
    "    norm = True,\n",
    "    drop = False\n",
    "  ):\n",
    "    super().__init__()\n",
    "\n",
    "    self.norm = norm\n",
    "    self.drop = drop\n",
    "\n",
    "    self.upsample = nn.ConvTranspose2d(\n",
    "      in_channels=in_channel,\n",
    "      out_channels=out_channel,\n",
    "      kernel_size=kernel_size,\n",
    "      padding=padding,\n",
    "      stride=stride,\n",
    "      bias=bias\n",
    "    ) \n",
    "    \n",
    "    self.batchnorm = nn.BatchNorm2d(out_channel)\n",
    "    self.relu = nn.LeakyReLU(0.2, inplace=True)\n",
    "    self.dropout = nn.Dropout(0.5)\n",
    "  \n",
    "  def forward(self, x):\n",
    "    x = self.upsample(x)\n",
    "    \n",
    "    if self.norm:\n",
    "      x = self.batchnorm(x)\n",
    "    \n",
    "    if self.drop:\n",
    "      x = self.dropout(x)\n",
    "\n",
    "    x = self.relu(x)\n",
    "\n",
    "    return x"
   ]
  },
  {
   "cell_type": "code",
   "execution_count": 68,
   "metadata": {},
   "outputs": [],
   "source": [
    "# Generate Segmentation map\n",
    "def Generate_background_segmentation_map(root_resource_path):\n",
    "    sem_image_path_list = sorted(glob(os.path.join(root_resource_path, 'SEM/*/*/*')))\n",
    "    depth_image_path_list = sorted(glob(os.path.join(root_resource_path, 'Depth/*/*/*')) + glob(os.path.join(root_resource_path, 'Depth/*/*/*')))\n",
    "    # segment_image_path_list = list()\n",
    "    for depth_image_path in depth_image_path_list:\n",
    "        image = cv2.imread(depth_image_path, cv2.IMREAD_GRAYSCALE)\n",
    "        after_root_path = '/'.join(depth_image_path.split('/')[-3:])\n",
    "        backbround_depth = image[0][0]\n",
    "        segment_image = (image == backbround_depth).astype(np.int32) * 255\n",
    "        # print(os.path.join(root_resource_path, 'segment' ,after_root_path))\n",
    "        os.makedirs('/'.join(os.path.join(root_resource_path, 'Segment' ,after_root_path).split('/')[:-1]), exist_ok=True)\n",
    "        cv2.imwrite(os.path.join(root_resource_path, 'Segment' ,after_root_path), segment_image)\n",
    "\n",
    "Generate_background_segmentation_map('/Users/choihanjun/Downloads/open/simulation_data/')"
   ]
  },
  {
   "cell_type": "code",
   "execution_count": 2,
   "metadata": {},
   "outputs": [
    {
     "ename": "NameError",
     "evalue": "name 'glob' is not defined",
     "output_type": "error",
     "traceback": [
      "\u001b[0;31m---------------------------------------------------------------------------\u001b[0m",
      "\u001b[0;31mNameError\u001b[0m                                 Traceback (most recent call last)",
      "\u001b[0;32m/var/folders/4n/t7xg8fhn1rlgpmh2cv0f210w0000gn/T/ipykernel_75043/674007114.py\u001b[0m in \u001b[0;36m<module>\u001b[0;34m\u001b[0m\n\u001b[0;32m----> 1\u001b[0;31m \u001b[0msimulation_sem_paths\u001b[0m \u001b[0;34m=\u001b[0m \u001b[0msorted\u001b[0m\u001b[0;34m(\u001b[0m\u001b[0mglob\u001b[0m\u001b[0;34m(\u001b[0m\u001b[0;34m'/Users/choihanjun/Downloads/open/simulation_data/SEM/*/*/*.png'\u001b[0m\u001b[0;34m)\u001b[0m\u001b[0;34m)\u001b[0m\u001b[0;34m\u001b[0m\u001b[0;34m\u001b[0m\u001b[0m\n\u001b[0m\u001b[1;32m      2\u001b[0m \u001b[0msimulation_depth_paths\u001b[0m \u001b[0;34m=\u001b[0m \u001b[0msorted\u001b[0m\u001b[0;34m(\u001b[0m\u001b[0mglob\u001b[0m\u001b[0;34m(\u001b[0m\u001b[0;34m'/Users/choihanjun/Downloads/open/simulation_data/Depth/*/*/*.png'\u001b[0m\u001b[0;34m)\u001b[0m\u001b[0;34m+\u001b[0m\u001b[0mglob\u001b[0m\u001b[0;34m(\u001b[0m\u001b[0;34m'/Users/choihanjun/Downloads/open/simulation_data/Depth/*/*/*.png'\u001b[0m\u001b[0;34m)\u001b[0m\u001b[0;34m)\u001b[0m\u001b[0;34m\u001b[0m\u001b[0;34m\u001b[0m\u001b[0m\n\u001b[1;32m      3\u001b[0m \u001b[0msimulation_segment_paths\u001b[0m \u001b[0;34m=\u001b[0m \u001b[0msorted\u001b[0m\u001b[0;34m(\u001b[0m\u001b[0mglob\u001b[0m\u001b[0;34m(\u001b[0m\u001b[0;34m'/Users/choihanjun/Downloads/open/simulation_data/Segment/*/*/*.png'\u001b[0m\u001b[0;34m)\u001b[0m \u001b[0;34m+\u001b[0m \u001b[0mglob\u001b[0m\u001b[0;34m(\u001b[0m\u001b[0;34m'/Users/choihanjun/Downloads/open/simulation_data/Segment/*/*/*.png'\u001b[0m\u001b[0;34m)\u001b[0m\u001b[0;34m)\u001b[0m\u001b[0;34m\u001b[0m\u001b[0;34m\u001b[0m\u001b[0m\n\u001b[1;32m      4\u001b[0m \u001b[0;34m\u001b[0m\u001b[0m\n\u001b[1;32m      5\u001b[0m \u001b[0mprint\u001b[0m\u001b[0;34m(\u001b[0m\u001b[0mlen\u001b[0m\u001b[0;34m(\u001b[0m\u001b[0msimulation_sem_paths\u001b[0m\u001b[0;34m)\u001b[0m\u001b[0;34m)\u001b[0m\u001b[0;34m\u001b[0m\u001b[0;34m\u001b[0m\u001b[0m\n",
      "\u001b[0;31mNameError\u001b[0m: name 'glob' is not defined"
     ]
    }
   ],
   "source": [
    "simulation_sem_paths = sorted(glob('/Users/choihanjun/Downloads/open/simulation_data/SEM/*/*/*.png'))\n",
    "simulation_depth_paths = sorted(glob('/Users/choihanjun/Downloads/open/simulation_data/Depth/*/*/*.png')+glob('/Users/choihanjun/Downloads/open/simulation_data/Depth/*/*/*.png'))\n",
    "simulation_segment_paths = sorted(glob('/Users/choihanjun/Downloads/open/simulation_data/Segment/*/*/*.png') + glob('/Users/choihanjun/Downloads/open/simulation_data/Segment/*/*/*.png'))\n",
    "\n",
    "print(len(simulation_sem_paths))\n",
    "print(len(simulation_depth_paths))\n",
    "print(len(simulation_segment_paths))"
   ]
  },
  {
   "cell_type": "code",
   "execution_count": 60,
   "metadata": {},
   "outputs": [],
   "source": [
    "class CustomDataset(Dataset):\n",
    "  def __init__(self, sem_path_list, depth_path_list, transform=None):\n",
    "    self.sem_path_list = sem_path_list\n",
    "    self.depth_path_list = depth_path_list\n",
    "    self.transform = transform\n",
    "      \n",
    "  def __getitem__(self, index):\n",
    "    sem_path = self.sem_path_list[index]\n",
    "    sem_img = cv2.imread(sem_path, cv2.IMREAD_GRAYSCALE)\n",
    "    sem_img = np.expand_dims(sem_img, axis=-1).transpose(2,0,1)\n",
    "    sem_img = sem_img / 255.\n",
    "    \n",
    "    if self.depth_path_list is not None:\n",
    "      depth_path = self.depth_path_list[index]\n",
    "      depth_img = cv2.imread(depth_path, cv2.IMREAD_GRAYSCALE)\n",
    "      depth_img = np.expand_dims(depth_img, axis=-1).transpose(2,0,1)\n",
    "      depth_img = depth_img / 255.\n",
    "      return torch.Tensor(sem_img), torch.Tensor(depth_img) # B,C,H,W\n",
    "    else:\n",
    "      img_name = sem_path.split('/')[-1]\n",
    "      return torch.Tensor(sem_img), img_name # B,C,H,W\n",
    "      \n",
    "  def __len__(self):\n",
    "    return len(self.sem_path_list)"
   ]
  },
  {
   "cell_type": "code",
   "execution_count": 3,
   "metadata": {},
   "outputs": [
    {
     "ename": "NameError",
     "evalue": "name 'simulation_sem_paths' is not defined",
     "output_type": "error",
     "traceback": [
      "\u001b[0;31m---------------------------------------------------------------------------\u001b[0m",
      "\u001b[0;31mNameError\u001b[0m                                 Traceback (most recent call last)",
      "\u001b[0;32m/var/folders/4n/t7xg8fhn1rlgpmh2cv0f210w0000gn/T/ipykernel_75043/365691647.py\u001b[0m in \u001b[0;36m<module>\u001b[0;34m\u001b[0m\n\u001b[0;32m----> 1\u001b[0;31m \u001b[0mdata_len\u001b[0m \u001b[0;34m=\u001b[0m \u001b[0mlen\u001b[0m\u001b[0;34m(\u001b[0m\u001b[0msimulation_sem_paths\u001b[0m\u001b[0;34m)\u001b[0m\u001b[0;34m\u001b[0m\u001b[0;34m\u001b[0m\u001b[0m\n\u001b[0m",
      "\u001b[0;31mNameError\u001b[0m: name 'simulation_sem_paths' is not defined"
     ]
    }
   ],
   "source": [
    "data_len = len(simulation_sem_paths)"
   ]
  },
  {
   "cell_type": "code",
   "execution_count": null,
   "metadata": {},
   "outputs": [],
   "source": [
    "train_sem_paths = simulation_sem_paths[:int(data_len*0.8)]\n",
    "train_depth_paths = simulation_depth_paths[:int(data_len*0.8)]\n",
    "train_segment_paths = simulation_segment_paths[:int(data_len*0.8)]\n",
    "\n",
    "val_sem_paths = simulation_sem_paths[int(data_len*0.8):]\n",
    "val_depth_paths = simulation_depth_paths[int(data_len*0.8):]\n",
    "val_segment_paths = simulation_segment_paths[int(data_len*0.8):]"
   ]
  },
  {
   "cell_type": "code",
   "execution_count": 61,
   "metadata": {},
   "outputs": [],
   "source": [
    "# train_dataset = CustomDataset(simulation_sem_paths, simulation_depth_paths)\n",
    "train_dataset = CustomDataset(simulation_sem_paths, simulation_segment_paths)\n",
    "train_loader = DataLoader(train_dataset, batch_size = args.batch_size, shuffle=True, num_workers=0)\n",
    "\n",
    "val_dataset = CustomDataset(val_sem_paths, val_depth_paths)\n",
    "val_loader = DataLoader(val_dataset, batch_size=args.batch_size, shuffle=False, num_workers=0)"
   ]
  },
  {
   "cell_type": "code",
   "execution_count": 62,
   "metadata": {},
   "outputs": [],
   "source": [
    "class Unet(nn.Module):\n",
    "  def __init__(self):\n",
    "    super().__init__()\n",
    "\n",
    "    self.down1 = CBR2d(in_channel=1, out_channel=64) # (B 70 46 64)\n",
    "    self.down2 = CBR2d(in_channel=64, out_channel=128) # (B 68 44 128)\n",
    "    self.down3 = CBR2d(in_channel=128, out_channel=256) # (B 66 42 256)\n",
    "    self.down4 = CBR2d(in_channel=256, out_channel=512) # (B 64 40 512)\n",
    "    self.down5 = CBR2d(in_channel=512, out_channel=512) # (B 62 38 512)\n",
    "    self.down6 = CBR2d(in_channel=512, out_channel=512) # (B 60 36 512)\n",
    "    self.down7 = CBR2d(in_channel=512, out_channel=512) # (B 58 34 512)\n",
    "    self.down8 = CBR2d(in_channel=512, out_channel=512) # (B 56 32 512) # batch_size가 1이면 norm적용 불가능\n",
    "\n",
    "    self.up8 = DECBR2d(in_channel=512, out_channel=512)\n",
    "    self.up7 = DECBR2d(in_channel=1024, out_channel=512)\n",
    "    self.up6 = DECBR2d(in_channel=1024, out_channel=512)\n",
    "    self.up5 = DECBR2d(in_channel=1024, out_channel=512)\n",
    "    self.up4 = DECBR2d(in_channel=1024, out_channel=256) \n",
    "    self.up3 = DECBR2d(in_channel=512, out_channel=128)\n",
    "    self.up2 = DECBR2d(in_channel=256, out_channel=64)\n",
    "    self.up1 = nn.ConvTranspose2d(\n",
    "      in_channels=128,\n",
    "      out_channels=1,\n",
    "      kernel_size=3,\n",
    "      stride=1,\n",
    "      padding=0 \n",
    "    )\n",
    "\n",
    "\n",
    "  def forward(self, x):\n",
    "    down1 = self.down1(x)\n",
    "    down2 = self.down2(down1)\n",
    "    down3 = self.down3(down2)\n",
    "    down4 = self.down4(down3)\n",
    "    down5 = self.down5(down4)\n",
    "    down6 = self.down6(down5)\n",
    "    down7 = self.down7(down6)\n",
    "    down8 = self.down8(down7)\n",
    "\n",
    "    up8 = self.up8(down8)\n",
    "    cat7 = torch.cat((up8, down7), dim=1)\n",
    "    up7 = self.up7(cat7)\n",
    "    cat6 = torch.cat((up7, down6), dim=1)\n",
    "    up6 = self.up6(cat6)\n",
    "    cat5 = torch.cat((up6, down5), dim=1)\n",
    "    up5 = self.up5(cat5)\n",
    "    cat4 = torch.cat((up5, down4), dim=1)\n",
    "    up4 = self.up4(cat4)\n",
    "    cat3 = torch.cat((up4, down3), dim=1)\n",
    "    up3 = self.up3(cat3)\n",
    "    cat2 = torch.cat((up3, down2), dim=1)\n",
    "    up2 = self.up2(cat2)\n",
    "    cat1 = torch.cat((up2, down1), dim=1)\n",
    "    up1 = self.up1(cat1)\n",
    "\n",
    "    return up1"
   ]
  },
  {
   "cell_type": "code",
   "execution_count": 63,
   "metadata": {},
   "outputs": [],
   "source": [
    "# dice_loss implement\n",
    "def dice_loss(pred, target, smooth = 1e-5):\n",
    "    # binary cross entropy loss\n",
    "    bce = F.binary_cross_entropy_with_logits(pred, target, reduction='sum')\n",
    "\n",
    "    pred = torch.sigmoid(pred)\n",
    "    intersection = (pred * target).sum(dim=(2,3))\n",
    "    union = pred.sum(dim=(2,3)) + target.sum(dim = (2,3))\n",
    "\n",
    "    # dice coefficient\n",
    "    dice = 2.0 * (intersection + smooth) / (union + smooth)\n",
    "\n",
    "    # dice loss\n",
    "    dice_loss = 1.0 - dice\n",
    "\n",
    "    # total loss\n",
    "    loss = bce + dice_loss\n",
    "\n",
    "    return loss.sum(), dice.sum()"
   ]
  },
  {
   "cell_type": "code",
   "execution_count": 64,
   "metadata": {},
   "outputs": [
    {
     "ename": "AssertionError",
     "evalue": "Torch not compiled with CUDA enabled",
     "output_type": "error",
     "traceback": [
      "\u001b[0;31m---------------------------------------------------------------------------\u001b[0m",
      "\u001b[0;31mAssertionError\u001b[0m                            Traceback (most recent call last)",
      "\u001b[0;32m/var/folders/4n/t7xg8fhn1rlgpmh2cv0f210w0000gn/T/ipykernel_65833/1375503955.py\u001b[0m in \u001b[0;36m<module>\u001b[0;34m\u001b[0m\n\u001b[1;32m      1\u001b[0m \u001b[0;32mfrom\u001b[0m \u001b[0mtorchsummary\u001b[0m \u001b[0;32mimport\u001b[0m \u001b[0msummary\u001b[0m\u001b[0;34m\u001b[0m\u001b[0;34m\u001b[0m\u001b[0m\n\u001b[1;32m      2\u001b[0m \u001b[0;34m\u001b[0m\u001b[0m\n\u001b[0;32m----> 3\u001b[0;31m \u001b[0mmodel\u001b[0m \u001b[0;34m=\u001b[0m \u001b[0mUnet\u001b[0m\u001b[0;34m(\u001b[0m\u001b[0;34m)\u001b[0m\u001b[0;34m.\u001b[0m\u001b[0mcuda\u001b[0m\u001b[0;34m(\u001b[0m\u001b[0;34m)\u001b[0m\u001b[0;34m\u001b[0m\u001b[0;34m\u001b[0m\u001b[0m\n\u001b[0m\u001b[1;32m      4\u001b[0m \u001b[0msummary\u001b[0m\u001b[0;34m(\u001b[0m\u001b[0mmodel\u001b[0m\u001b[0;34m,\u001b[0m \u001b[0minput_size\u001b[0m\u001b[0;34m=\u001b[0m\u001b[0;34m(\u001b[0m\u001b[0;36m1\u001b[0m\u001b[0;34m,\u001b[0m \u001b[0;36m72\u001b[0m\u001b[0;34m,\u001b[0m \u001b[0;36m48\u001b[0m\u001b[0;34m)\u001b[0m\u001b[0;34m)\u001b[0m\u001b[0;34m\u001b[0m\u001b[0;34m\u001b[0m\u001b[0m\n",
      "\u001b[0;32m/opt/anaconda3/envs/ML/lib/python3.7/site-packages/torch/nn/modules/module.py\u001b[0m in \u001b[0;36mcuda\u001b[0;34m(self, device)\u001b[0m\n\u001b[1;32m    687\u001b[0m             \u001b[0mModule\u001b[0m\u001b[0;34m:\u001b[0m \u001b[0mself\u001b[0m\u001b[0;34m\u001b[0m\u001b[0;34m\u001b[0m\u001b[0m\n\u001b[1;32m    688\u001b[0m         \"\"\"\n\u001b[0;32m--> 689\u001b[0;31m         \u001b[0;32mreturn\u001b[0m \u001b[0mself\u001b[0m\u001b[0;34m.\u001b[0m\u001b[0m_apply\u001b[0m\u001b[0;34m(\u001b[0m\u001b[0;32mlambda\u001b[0m \u001b[0mt\u001b[0m\u001b[0;34m:\u001b[0m \u001b[0mt\u001b[0m\u001b[0;34m.\u001b[0m\u001b[0mcuda\u001b[0m\u001b[0;34m(\u001b[0m\u001b[0mdevice\u001b[0m\u001b[0;34m)\u001b[0m\u001b[0;34m)\u001b[0m\u001b[0;34m\u001b[0m\u001b[0;34m\u001b[0m\u001b[0m\n\u001b[0m\u001b[1;32m    690\u001b[0m \u001b[0;34m\u001b[0m\u001b[0m\n\u001b[1;32m    691\u001b[0m     \u001b[0;32mdef\u001b[0m \u001b[0mipu\u001b[0m\u001b[0;34m(\u001b[0m\u001b[0mself\u001b[0m\u001b[0;34m:\u001b[0m \u001b[0mT\u001b[0m\u001b[0;34m,\u001b[0m \u001b[0mdevice\u001b[0m\u001b[0;34m:\u001b[0m \u001b[0mOptional\u001b[0m\u001b[0;34m[\u001b[0m\u001b[0mUnion\u001b[0m\u001b[0;34m[\u001b[0m\u001b[0mint\u001b[0m\u001b[0;34m,\u001b[0m \u001b[0mdevice\u001b[0m\u001b[0;34m]\u001b[0m\u001b[0;34m]\u001b[0m \u001b[0;34m=\u001b[0m \u001b[0;32mNone\u001b[0m\u001b[0;34m)\u001b[0m \u001b[0;34m->\u001b[0m \u001b[0mT\u001b[0m\u001b[0;34m:\u001b[0m\u001b[0;34m\u001b[0m\u001b[0;34m\u001b[0m\u001b[0m\n",
      "\u001b[0;32m/opt/anaconda3/envs/ML/lib/python3.7/site-packages/torch/nn/modules/module.py\u001b[0m in \u001b[0;36m_apply\u001b[0;34m(self, fn)\u001b[0m\n\u001b[1;32m    577\u001b[0m     \u001b[0;32mdef\u001b[0m \u001b[0m_apply\u001b[0m\u001b[0;34m(\u001b[0m\u001b[0mself\u001b[0m\u001b[0;34m,\u001b[0m \u001b[0mfn\u001b[0m\u001b[0;34m)\u001b[0m\u001b[0;34m:\u001b[0m\u001b[0;34m\u001b[0m\u001b[0;34m\u001b[0m\u001b[0m\n\u001b[1;32m    578\u001b[0m         \u001b[0;32mfor\u001b[0m \u001b[0mmodule\u001b[0m \u001b[0;32min\u001b[0m \u001b[0mself\u001b[0m\u001b[0;34m.\u001b[0m\u001b[0mchildren\u001b[0m\u001b[0;34m(\u001b[0m\u001b[0;34m)\u001b[0m\u001b[0;34m:\u001b[0m\u001b[0;34m\u001b[0m\u001b[0;34m\u001b[0m\u001b[0m\n\u001b[0;32m--> 579\u001b[0;31m             \u001b[0mmodule\u001b[0m\u001b[0;34m.\u001b[0m\u001b[0m_apply\u001b[0m\u001b[0;34m(\u001b[0m\u001b[0mfn\u001b[0m\u001b[0;34m)\u001b[0m\u001b[0;34m\u001b[0m\u001b[0;34m\u001b[0m\u001b[0m\n\u001b[0m\u001b[1;32m    580\u001b[0m \u001b[0;34m\u001b[0m\u001b[0m\n\u001b[1;32m    581\u001b[0m         \u001b[0;32mdef\u001b[0m \u001b[0mcompute_should_use_set_data\u001b[0m\u001b[0;34m(\u001b[0m\u001b[0mtensor\u001b[0m\u001b[0;34m,\u001b[0m \u001b[0mtensor_applied\u001b[0m\u001b[0;34m)\u001b[0m\u001b[0;34m:\u001b[0m\u001b[0;34m\u001b[0m\u001b[0;34m\u001b[0m\u001b[0m\n",
      "\u001b[0;32m/opt/anaconda3/envs/ML/lib/python3.7/site-packages/torch/nn/modules/module.py\u001b[0m in \u001b[0;36m_apply\u001b[0;34m(self, fn)\u001b[0m\n\u001b[1;32m    577\u001b[0m     \u001b[0;32mdef\u001b[0m \u001b[0m_apply\u001b[0m\u001b[0;34m(\u001b[0m\u001b[0mself\u001b[0m\u001b[0;34m,\u001b[0m \u001b[0mfn\u001b[0m\u001b[0;34m)\u001b[0m\u001b[0;34m:\u001b[0m\u001b[0;34m\u001b[0m\u001b[0;34m\u001b[0m\u001b[0m\n\u001b[1;32m    578\u001b[0m         \u001b[0;32mfor\u001b[0m \u001b[0mmodule\u001b[0m \u001b[0;32min\u001b[0m \u001b[0mself\u001b[0m\u001b[0;34m.\u001b[0m\u001b[0mchildren\u001b[0m\u001b[0;34m(\u001b[0m\u001b[0;34m)\u001b[0m\u001b[0;34m:\u001b[0m\u001b[0;34m\u001b[0m\u001b[0;34m\u001b[0m\u001b[0m\n\u001b[0;32m--> 579\u001b[0;31m             \u001b[0mmodule\u001b[0m\u001b[0;34m.\u001b[0m\u001b[0m_apply\u001b[0m\u001b[0;34m(\u001b[0m\u001b[0mfn\u001b[0m\u001b[0;34m)\u001b[0m\u001b[0;34m\u001b[0m\u001b[0;34m\u001b[0m\u001b[0m\n\u001b[0m\u001b[1;32m    580\u001b[0m \u001b[0;34m\u001b[0m\u001b[0m\n\u001b[1;32m    581\u001b[0m         \u001b[0;32mdef\u001b[0m \u001b[0mcompute_should_use_set_data\u001b[0m\u001b[0;34m(\u001b[0m\u001b[0mtensor\u001b[0m\u001b[0;34m,\u001b[0m \u001b[0mtensor_applied\u001b[0m\u001b[0;34m)\u001b[0m\u001b[0;34m:\u001b[0m\u001b[0;34m\u001b[0m\u001b[0;34m\u001b[0m\u001b[0m\n",
      "\u001b[0;32m/opt/anaconda3/envs/ML/lib/python3.7/site-packages/torch/nn/modules/module.py\u001b[0m in \u001b[0;36m_apply\u001b[0;34m(self, fn)\u001b[0m\n\u001b[1;32m    577\u001b[0m     \u001b[0;32mdef\u001b[0m \u001b[0m_apply\u001b[0m\u001b[0;34m(\u001b[0m\u001b[0mself\u001b[0m\u001b[0;34m,\u001b[0m \u001b[0mfn\u001b[0m\u001b[0;34m)\u001b[0m\u001b[0;34m:\u001b[0m\u001b[0;34m\u001b[0m\u001b[0;34m\u001b[0m\u001b[0m\n\u001b[1;32m    578\u001b[0m         \u001b[0;32mfor\u001b[0m \u001b[0mmodule\u001b[0m \u001b[0;32min\u001b[0m \u001b[0mself\u001b[0m\u001b[0;34m.\u001b[0m\u001b[0mchildren\u001b[0m\u001b[0;34m(\u001b[0m\u001b[0;34m)\u001b[0m\u001b[0;34m:\u001b[0m\u001b[0;34m\u001b[0m\u001b[0;34m\u001b[0m\u001b[0m\n\u001b[0;32m--> 579\u001b[0;31m             \u001b[0mmodule\u001b[0m\u001b[0;34m.\u001b[0m\u001b[0m_apply\u001b[0m\u001b[0;34m(\u001b[0m\u001b[0mfn\u001b[0m\u001b[0;34m)\u001b[0m\u001b[0;34m\u001b[0m\u001b[0;34m\u001b[0m\u001b[0m\n\u001b[0m\u001b[1;32m    580\u001b[0m \u001b[0;34m\u001b[0m\u001b[0m\n\u001b[1;32m    581\u001b[0m         \u001b[0;32mdef\u001b[0m \u001b[0mcompute_should_use_set_data\u001b[0m\u001b[0;34m(\u001b[0m\u001b[0mtensor\u001b[0m\u001b[0;34m,\u001b[0m \u001b[0mtensor_applied\u001b[0m\u001b[0;34m)\u001b[0m\u001b[0;34m:\u001b[0m\u001b[0;34m\u001b[0m\u001b[0;34m\u001b[0m\u001b[0m\n",
      "\u001b[0;32m/opt/anaconda3/envs/ML/lib/python3.7/site-packages/torch/nn/modules/module.py\u001b[0m in \u001b[0;36m_apply\u001b[0;34m(self, fn)\u001b[0m\n\u001b[1;32m    600\u001b[0m             \u001b[0;31m# `with torch.no_grad():`\u001b[0m\u001b[0;34m\u001b[0m\u001b[0;34m\u001b[0m\u001b[0;34m\u001b[0m\u001b[0m\n\u001b[1;32m    601\u001b[0m             \u001b[0;32mwith\u001b[0m \u001b[0mtorch\u001b[0m\u001b[0;34m.\u001b[0m\u001b[0mno_grad\u001b[0m\u001b[0;34m(\u001b[0m\u001b[0;34m)\u001b[0m\u001b[0;34m:\u001b[0m\u001b[0;34m\u001b[0m\u001b[0;34m\u001b[0m\u001b[0m\n\u001b[0;32m--> 602\u001b[0;31m                 \u001b[0mparam_applied\u001b[0m \u001b[0;34m=\u001b[0m \u001b[0mfn\u001b[0m\u001b[0;34m(\u001b[0m\u001b[0mparam\u001b[0m\u001b[0;34m)\u001b[0m\u001b[0;34m\u001b[0m\u001b[0;34m\u001b[0m\u001b[0m\n\u001b[0m\u001b[1;32m    603\u001b[0m             \u001b[0mshould_use_set_data\u001b[0m \u001b[0;34m=\u001b[0m \u001b[0mcompute_should_use_set_data\u001b[0m\u001b[0;34m(\u001b[0m\u001b[0mparam\u001b[0m\u001b[0;34m,\u001b[0m \u001b[0mparam_applied\u001b[0m\u001b[0;34m)\u001b[0m\u001b[0;34m\u001b[0m\u001b[0;34m\u001b[0m\u001b[0m\n\u001b[1;32m    604\u001b[0m             \u001b[0;32mif\u001b[0m \u001b[0mshould_use_set_data\u001b[0m\u001b[0;34m:\u001b[0m\u001b[0;34m\u001b[0m\u001b[0;34m\u001b[0m\u001b[0m\n",
      "\u001b[0;32m/opt/anaconda3/envs/ML/lib/python3.7/site-packages/torch/nn/modules/module.py\u001b[0m in \u001b[0;36m<lambda>\u001b[0;34m(t)\u001b[0m\n\u001b[1;32m    687\u001b[0m             \u001b[0mModule\u001b[0m\u001b[0;34m:\u001b[0m \u001b[0mself\u001b[0m\u001b[0;34m\u001b[0m\u001b[0;34m\u001b[0m\u001b[0m\n\u001b[1;32m    688\u001b[0m         \"\"\"\n\u001b[0;32m--> 689\u001b[0;31m         \u001b[0;32mreturn\u001b[0m \u001b[0mself\u001b[0m\u001b[0;34m.\u001b[0m\u001b[0m_apply\u001b[0m\u001b[0;34m(\u001b[0m\u001b[0;32mlambda\u001b[0m \u001b[0mt\u001b[0m\u001b[0;34m:\u001b[0m \u001b[0mt\u001b[0m\u001b[0;34m.\u001b[0m\u001b[0mcuda\u001b[0m\u001b[0;34m(\u001b[0m\u001b[0mdevice\u001b[0m\u001b[0;34m)\u001b[0m\u001b[0;34m)\u001b[0m\u001b[0;34m\u001b[0m\u001b[0;34m\u001b[0m\u001b[0m\n\u001b[0m\u001b[1;32m    690\u001b[0m \u001b[0;34m\u001b[0m\u001b[0m\n\u001b[1;32m    691\u001b[0m     \u001b[0;32mdef\u001b[0m \u001b[0mipu\u001b[0m\u001b[0;34m(\u001b[0m\u001b[0mself\u001b[0m\u001b[0;34m:\u001b[0m \u001b[0mT\u001b[0m\u001b[0;34m,\u001b[0m \u001b[0mdevice\u001b[0m\u001b[0;34m:\u001b[0m \u001b[0mOptional\u001b[0m\u001b[0;34m[\u001b[0m\u001b[0mUnion\u001b[0m\u001b[0;34m[\u001b[0m\u001b[0mint\u001b[0m\u001b[0;34m,\u001b[0m \u001b[0mdevice\u001b[0m\u001b[0;34m]\u001b[0m\u001b[0;34m]\u001b[0m \u001b[0;34m=\u001b[0m \u001b[0;32mNone\u001b[0m\u001b[0;34m)\u001b[0m \u001b[0;34m->\u001b[0m \u001b[0mT\u001b[0m\u001b[0;34m:\u001b[0m\u001b[0;34m\u001b[0m\u001b[0;34m\u001b[0m\u001b[0m\n",
      "\u001b[0;32m/opt/anaconda3/envs/ML/lib/python3.7/site-packages/torch/cuda/__init__.py\u001b[0m in \u001b[0;36m_lazy_init\u001b[0;34m()\u001b[0m\n\u001b[1;32m    209\u001b[0m                 \"multiprocessing, you must use the 'spawn' start method\")\n\u001b[1;32m    210\u001b[0m         \u001b[0;32mif\u001b[0m \u001b[0;32mnot\u001b[0m \u001b[0mhasattr\u001b[0m\u001b[0;34m(\u001b[0m\u001b[0mtorch\u001b[0m\u001b[0;34m.\u001b[0m\u001b[0m_C\u001b[0m\u001b[0;34m,\u001b[0m \u001b[0;34m'_cuda_getDeviceCount'\u001b[0m\u001b[0;34m)\u001b[0m\u001b[0;34m:\u001b[0m\u001b[0;34m\u001b[0m\u001b[0;34m\u001b[0m\u001b[0m\n\u001b[0;32m--> 211\u001b[0;31m             \u001b[0;32mraise\u001b[0m \u001b[0mAssertionError\u001b[0m\u001b[0;34m(\u001b[0m\u001b[0;34m\"Torch not compiled with CUDA enabled\"\u001b[0m\u001b[0;34m)\u001b[0m\u001b[0;34m\u001b[0m\u001b[0;34m\u001b[0m\u001b[0m\n\u001b[0m\u001b[1;32m    212\u001b[0m         \u001b[0;32mif\u001b[0m \u001b[0m_cudart\u001b[0m \u001b[0;32mis\u001b[0m \u001b[0;32mNone\u001b[0m\u001b[0;34m:\u001b[0m\u001b[0;34m\u001b[0m\u001b[0;34m\u001b[0m\u001b[0m\n\u001b[1;32m    213\u001b[0m             raise AssertionError(\n",
      "\u001b[0;31mAssertionError\u001b[0m: Torch not compiled with CUDA enabled"
     ]
    }
   ],
   "source": [
    "from torchsummary import summary\n",
    "\n",
    "model = Unet().cuda()\n",
    "summary(model, input_size=(1, 72, 48))"
   ]
  },
  {
   "cell_type": "code",
   "execution_count": null,
   "metadata": {},
   "outputs": [],
   "source": [
    "def validation(model, criterion, val_loader, device):\n",
    "    model.eval()\n",
    "    rmse = nn.MSELoss().to(device)\n",
    "    \n",
    "    val_loss = []\n",
    "    val_rmse = []\n",
    "    with torch.no_grad():\n",
    "        for sem, depth in tqdm(iter(val_loader)):\n",
    "            sem = sem.float().to(device)\n",
    "            depth = depth.float().to(device)\n",
    "            \n",
    "            model_pred = model(sem)\n",
    "            loss = criterion(model_pred, depth)\n",
    "            \n",
    "            pred = (model_pred*255.).type(torch.int8).float()\n",
    "            true = (depth*255.).type(torch.int8).float()\n",
    "            \n",
    "            b_rmse = torch.sqrt(criterion(pred, true))\n",
    "            \n",
    "            val_loss.append(loss.item())\n",
    "            val_rmse.append(b_rmse.item())\n",
    "\n",
    "    return np.mean(val_loss), np.mean(val_rmse)"
   ]
  },
  {
   "cell_type": "code",
   "execution_count": null,
   "metadata": {},
   "outputs": [],
   "source": [
    "def train(model, optimizer, train_loader, val_loader, scheduler, device):\n",
    "    model.to(device)\n",
    "    criterion_list = [nn.L1Loss().to(device), dice_loss]\n",
    "    best_score = 999999\n",
    "    best_model = None\n",
    "    \n",
    "    for epoch in range(1, args.epochs+1):\n",
    "        model.train()\n",
    "        train_loss = []\n",
    "        for sem, depth in tqdm(iter(train_loader)):\n",
    "            sem = sem.float().to(device)\n",
    "            depth = depth.float().to(device)\n",
    "            \n",
    "            optimizer.zero_grad()\n",
    "            \n",
    "            model_pred = model(sem)\n",
    "            loss = criterion(model_pred, depth)\n",
    "            \n",
    "            loss.backward()\n",
    "            optimizer.step()\n",
    "            \n",
    "            train_loss.append(loss.item())\n",
    "        \n",
    "        val_loss, val_rmse = validation(model, criterion, val_loader, device)\n",
    "        print(f'Epoch : [{epoch}] Train Loss : [{np.mean(train_loss):.5f}] Val Loss : [{val_loss:.5f}] Val RMSE : [{val_rmse:.5f}]')\n",
    "        \n",
    "        if best_score > val_rmse:\n",
    "            best_score = val_rmse\n",
    "            best_model = model\n",
    "        \n",
    "        if scheduler is not None:\n",
    "            scheduler.step()\n",
    "            \n",
    "    return best_model"
   ]
  },
  {
   "cell_type": "code",
   "execution_count": null,
   "metadata": {},
   "outputs": [],
   "source": [
    "model = Unet()\n",
    "model.eval()\n",
    "optimizer = torch.optim.Adam(params = model.parameters(), lr = args.lr)\n",
    "scheduler = None\n",
    "\n",
    "infer_model = train(model, optimizer, train_loader, val_loader, scheduler, DEVICE)"
   ]
  },
  {
   "cell_type": "code",
   "execution_count": null,
   "metadata": {},
   "outputs": [],
   "source": []
  }
 ],
 "metadata": {
  "kernelspec": {
   "display_name": "Python 3.7.13 ('ML')",
   "language": "python",
   "name": "python3"
  },
  "language_info": {
   "codemirror_mode": {
    "name": "ipython",
    "version": 3
   },
   "file_extension": ".py",
   "mimetype": "text/x-python",
   "name": "python",
   "nbconvert_exporter": "python",
   "pygments_lexer": "ipython3",
   "version": "3.7.13"
  },
  "orig_nbformat": 4,
  "vscode": {
   "interpreter": {
    "hash": "19d29624fa02f72a2f2eb64b5fa4dfbc751609e2b6c88be691c0db207c64cc14"
   }
  }
 },
 "nbformat": 4,
 "nbformat_minor": 2
}
