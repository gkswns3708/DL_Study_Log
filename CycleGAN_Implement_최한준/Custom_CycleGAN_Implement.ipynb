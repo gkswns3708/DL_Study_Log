{
  "cells": [
    {
      "cell_type": "code",
      "execution_count": null,
      "metadata": {
        "id": "hKNbFVYcoqDh"
      },
      "outputs": [],
      "source": [
        "from google.colab import drive\n",
        "drive.mount('/content/drive')"
      ]
    },
    {
      "cell_type": "code",
      "execution_count": null,
      "metadata": {
        "id": "KMtWNk2l_yJd"
      },
      "outputs": [],
      "source": [
        "!pip install wandb"
      ]
    },
    {
      "cell_type": "code",
      "execution_count": null,
      "metadata": {
        "id": "sPJDhNhuu3HH"
      },
      "outputs": [],
      "source": [
        "!unzip /content/drive/MyDrive/Colab_Notebooks/Dacon/Samsung_AI_Challenge/Data.zip"
      ]
    },
    {
      "cell_type": "code",
      "execution_count": null,
      "metadata": {
        "id": "HO5hQ6Va1UVc"
      },
      "outputs": [],
      "source": [
        "# !rm -r /content/datasets/SEM"
      ]
    },
    {
      "cell_type": "code",
      "execution_count": null,
      "metadata": {
        "id": "K_YwKm93ogSa"
      },
      "outputs": [],
      "source": [
        "import os\n",
        "\n",
        "try:\n",
        "    for a in [\"train\", \"test\"]:\n",
        "        for i in ['A','B']:\n",
        "            for j in [1,2,3,4]:\n",
        "                for k in [80, 81,82,83,84]:\n",
        "                    os.makedirs(f'/content/datasets/SEM/{a}/{i}/Case_{j}/{k}',exist_ok=True)\n",
        "except:\n",
        "    pass"
      ]
    },
    {
      "cell_type": "code",
      "execution_count": null,
      "metadata": {
        "id": "7T97IX-Nvb_q"
      },
      "outputs": [],
      "source": [
        "import shutil\n",
        "import os\n",
        "from glob import glob\n",
        "from tqdm.auto import tqdm\n",
        "from collections import defaultdict\n",
        "os.chdir('/content')\n",
        "sem_list_iter0 = sorted(glob('./simulation_data/SEM/*/*/*itr0.png'))\n",
        "depth_list = sorted(glob('./simulation_data/Depth/*/*/*'))\n",
        "print(len(sem_list_iter0))\n",
        "print(len(depth_list))\n",
        "# A : SEM simulator\n",
        "# B : Depth map\n",
        "# Stratified 하게 SEM, DEPTH를 나눠야 할 듯 하다.\n",
        "sem_path_dict = defaultdict(int)\n",
        "depth_path_dict = defaultdict(int)\n",
        "for sem_path, depth_path in tqdm(zip(sem_list_iter0, depth_list)): \n",
        "    sem_file_name = '/'.join(sem_path.split('/')[-3:])\n",
        "    depth_file_name = '/'.join(depth_path.split('/')[-3:])\n",
        "    shutil.copy(sem_path, os.path.join('/content/datasets/SEM/train/A', sem_file_name)) # root/train/A/file_name\n",
        "    shutil.copy(depth_path, os.path.join('/content/datasets/SEM/train/B', depth_file_name)) # root/train/A/file_name\n",
        "    sem_path_dict[os.path.join('/content/datasets/SEM/train/A', sem_file_name)] += 1\n",
        "    depth_path_dict[os.path.join('/content/datasets/SEM/train/B', depth_file_name)] += 1\n",
        "\n",
        "# for sem_path, depth_path in tqdm(zip(sem_list_iter0[int(len(sem_list_iter0)* 0.8):], depth_list[int(len(depth_list)*0.8):])): \n",
        "#     # sem_file_path = sem_path.split('/')[:-1]\n",
        "#     sem_file_name = '/'.join(sem_path.split('/')[-3:])\n",
        "#     depth_file_name = '/'.join(depth_path.split('/')[-3:])\n",
        "#     shutil.copy(sem_path, os.path.join('/content/datasets/SEM/test/A', sem_file_name)) # root/train/A/file_name\n",
        "#     shutil.copy(depth_path, os.path.join('/content/datasets/SEM/test/B', depth_file_name)) # root/train/A/file_name"
      ]
    },
    {
      "cell_type": "code",
      "execution_count": null,
      "metadata": {
        "id": "7_L-yjjGNhKd"
      },
      "outputs": [],
      "source": [
        "import torch\n",
        "import torch.nn as nn\n",
        "import torch.nn.functional as F\n",
        "from torch.utils.data import Dataset, DataLoader\n",
        "\n",
        "import argparse\n",
        "import torchvision.transforms as transforms\n",
        "import torchvision.utils as vutils\n",
        "\n",
        "import torch.backends.cudnn as cudnn\n",
        "from PIL import Image\n",
        "\n",
        "from tqdm.auto import tqdm\n",
        "import albumentations as A\n",
        "from albumentations.pytorch.transforms import ToTensorV2, ToTensor\n",
        "\n",
        "import itertools\n",
        "import os\n",
        "import random\n",
        "import time\n",
        "import numpy as np\n",
        "import cv2\n",
        "from glob import glob\n",
        "import wandb"
      ]
    },
    {
      "cell_type": "code",
      "execution_count": null,
      "metadata": {
        "id": "0nRr3MRgpYZq"
      },
      "outputs": [],
      "source": [
        "class Discriminator(nn.Module):\n",
        "    def __init__(self):\n",
        "        super(Discriminator, self).__init__()\n",
        "\n",
        "        self.main = nn.Sequential(\n",
        "            nn.Conv2d(1, 64, 4, stride=2, padding=1), # channel = 1 or gray-scale * 3 => 3\n",
        "            nn.LeakyReLU(0.2, inplace=True),\n",
        "\n",
        "            nn.Conv2d(64, 128, 4, stride=2, padding=1),\n",
        "            nn.InstanceNorm2d(128),\n",
        "            nn.LeakyReLU(0.2, inplace=True),\n",
        "\n",
        "            nn.Conv2d(128, 256, 4, stride=2, padding=1),\n",
        "            nn.InstanceNorm2d(256),\n",
        "            nn.LeakyReLU(0.2, inplace=True),\n",
        "\n",
        "            nn.Conv2d(256, 512, 4, stride=2, padding=1),\n",
        "            nn.InstanceNorm2d(512),\n",
        "            nn.LeakyReLU(0.2, inplace=True),\n",
        "\n",
        "            nn.Conv2d(512, 1, 4, padding=1),\n",
        "        )\n",
        "    \n",
        "    def forward(self, x):\n",
        "        x = self.main(x)\n",
        "        x = F.avg_pool2d(x, x.size()[2:]) # TODO : 이거 왜 이런지 생각 및 확인하기\n",
        "        x = torch.flatten(x, 1)\n",
        "        return x"
      ]
    },
    {
      "cell_type": "code",
      "execution_count": null,
      "metadata": {
        "id": "vBB6_YNRpaGB"
      },
      "outputs": [],
      "source": [
        "class ResidualBlock(nn.Module):\n",
        "    def __init__(self, in_channels):\n",
        "        super(ResidualBlock, self).__init__()\n",
        "\n",
        "        self.res = nn.Sequential(nn.ReflectionPad2d(1),\n",
        "                                 nn.Conv2d(in_channels, in_channels, 3),\n",
        "                                 nn.InstanceNorm2d(in_channels),\n",
        "                                 nn.ReLU(inplace=True),\n",
        "                                 nn.ReflectionPad2d(1),\n",
        "                                 nn.Conv2d(in_channels, in_channels, 3),\n",
        "                                 nn.InstanceNorm2d(in_channels))\n",
        "\n",
        "    def forward(self, x):\n",
        "        return x + self.res(x)"
      ]
    },
    {
      "cell_type": "code",
      "execution_count": null,
      "metadata": {
        "id": "-LnXoZ6bpsak"
      },
      "outputs": [],
      "source": [
        "class Generator(nn.Module):\n",
        "    def __init__(self):\n",
        "        super(Generator, self).__init__()\n",
        "        self.main = nn.Sequential(\n",
        "            # Initial convolution block\n",
        "            nn.ReflectionPad2d(3), # 2d 평면으로 padding을 달아주는 layer\n",
        "            nn.Conv2d(1, 64, 7),\n",
        "            nn.InstanceNorm2d(64),\n",
        "            nn.ReLU(inplace=True),\n",
        "\n",
        "            # Downsampling\n",
        "            nn.Conv2d(64, 128, 3, stride=2, padding=1),\n",
        "            nn.InstanceNorm2d(128),\n",
        "            nn.ReLU(inplace=True),\n",
        "            nn.Conv2d(128, 256, 3, stride=2, padding=1),\n",
        "            nn.InstanceNorm2d(256),\n",
        "            nn.ReLU(inplace=True),\n",
        "\n",
        "            # Residual blocks\n",
        "            ResidualBlock(256),\n",
        "            ResidualBlock(256),\n",
        "            ResidualBlock(256),\n",
        "            ResidualBlock(256),\n",
        "            ResidualBlock(256),\n",
        "            ResidualBlock(256),\n",
        "            ResidualBlock(256),\n",
        "            ResidualBlock(256),\n",
        "            ResidualBlock(256),\n",
        "\n",
        "            # Upsampling\n",
        "            nn.ConvTranspose2d(256, 128, 3, stride=2, padding=1, output_padding=1),\n",
        "            nn.InstanceNorm2d(128),\n",
        "            nn.ReLU(inplace=True),\n",
        "            nn.ConvTranspose2d(128, 64, 3, stride=2, padding=1, output_padding=1),\n",
        "            nn.InstanceNorm2d(64),\n",
        "            nn.ReLU(inplace=True),\n",
        "\n",
        "            # Output layer\n",
        "            nn.ReflectionPad2d(3),\n",
        "            nn.Conv2d(64, 1, 7),\n",
        "            nn.Tanh()\n",
        "        )\n",
        "\n",
        "    def forward(self, x):\n",
        "        return self.main(x)"
      ]
    },
    {
      "cell_type": "code",
      "execution_count": null,
      "metadata": {
        "id": "50RrbO7epuXU"
      },
      "outputs": [],
      "source": [
        "class DecayLR:\n",
        "    def __init__(self, epochs, offset, decay_epochs):\n",
        "        epoch_flag = epochs - decay_epochs\n",
        "        assert (epoch_flag > 0), \"Decay must start before the training session ends!\"\n",
        "        self.epochs = epochs\n",
        "        self.offset = offset\n",
        "        self.decay_epochs = decay_epochs\n",
        "\n",
        "    def step(self, epoch):\n",
        "        return 1.0 - max(0, epoch + self.offset - self.decay_epochs) / (\n",
        "                self.epochs - self.decay_epochs)"
      ]
    },
    {
      "cell_type": "code",
      "execution_count": null,
      "metadata": {
        "id": "1I0IScGwpvnv"
      },
      "outputs": [],
      "source": [
        "class ReplayBuffer:\n",
        "    def __init__(self, max_size=50):\n",
        "        assert (max_size > 0), \"Empty buffer or trying to create a black hole. Be careful.\"\n",
        "        self.max_size = max_size\n",
        "        self.data = []\n",
        "\n",
        "    def push_and_pop(self, data):\n",
        "        to_return = []\n",
        "        for element in data.data:\n",
        "            element = torch.unsqueeze(element, 0)\n",
        "            if len(self.data) < self.max_size:\n",
        "                self.data.append(element)\n",
        "                to_return.append(element)\n",
        "            else:\n",
        "                if random.uniform(0, 1) > 0.5:\n",
        "                    i = random.randint(0, self.max_size - 1)\n",
        "                    to_return.append(self.data[i].clone())\n",
        "                    self.data[i] = element\n",
        "                else:\n",
        "                    to_return.append(element)\n",
        "        return torch.cat(to_return)"
      ]
    },
    {
      "cell_type": "code",
      "execution_count": null,
      "metadata": {
        "id": "pkYQGs4ztNka"
      },
      "outputs": [],
      "source": [
        "# custom weights initialization called on netG and netD\n",
        "def weights_init(m):\n",
        "    classname = m.__class__.__name__\n",
        "    if classname.find(\"Conv\") != -1:\n",
        "        torch.nn.init.normal_(m.weight, 0.0, 0.02)\n",
        "    elif classname.find(\"BatchNorm\") != -1:\n",
        "        torch.nn.init.normal_(m.weight, 1.0, 0.02)\n",
        "        torch.nn.init.zeros_(m.bias)"
      ]
    },
    {
      "cell_type": "code",
      "execution_count": null,
      "metadata": {
        "id": "MrfUJdGOpx0I"
      },
      "outputs": [],
      "source": [
        "class ImageDataset(Dataset):\n",
        "    def __init__(self, root, transform=None, mode=\"train\", itr=0):\n",
        "        self.transform = transform\n",
        "\n",
        "        self.files_A = sorted(glob(os.path.join(root, f\"{mode}/A\") + f\"/*/*/*itr{itr}.*\"))\n",
        "        print(len(self.files_A), \"-len(A)\")\n",
        "        self.files_B = sorted(glob(os.path.join(root, f\"{mode}/B\") + \"/*/*/*.*\"))\n",
        "        print(len(self.files_B), \"-len(B)\")\n",
        "\n",
        "    def __getitem__(self, index):\n",
        "        item_A = self.transform(Image.open(self.files_A[index]).convert(\"L\")) # RGB : \"RGB\", Grayscale : \"L\"\n",
        "        item_B = self.transform(Image.open(self.files_B[index]).convert(\"L\"))\n",
        "\n",
        "        # if self.unaligned:\n",
        "        #     item_B = self.transform(Image.open(self.files_B[random.randint(0, len(self.files_B) - 1)]).convert(\"L\"))\n",
        "        # else:\n",
        "        #     item_B = self.transform(Image.open(self.files_B[index % len(self.files_B)]).convert(\"L\"))\n",
        "\n",
        "        return {\"A\": item_A, \"B\": item_B}\n",
        "\n",
        "    def __len__(self):\n",
        "        return max(len(self.files_A), len(self.files_B))"
      ]
    },
    {
      "cell_type": "code",
      "execution_count": null,
      "metadata": {
        "id": "kdyWBz0idKMB"
      },
      "outputs": [],
      "source": [
        "class TestDataset(Dataset):\n",
        "    def __init__(self, root, transform=None):\n",
        "        self.transform = transform\n",
        "        self.files_test = sorted(glob(root))\n",
        "    def __getitem__(self, index):\n",
        "        img = self.transform(Image.open(self.files_test[index]).convert(\"L\"))\n",
        "        # img = np.expand_dims(img, axis=0)\n",
        "        file_name = self.files_test[index].split('/')[-1]\n",
        "        return img, file_name\n",
        "    \n",
        "    def __len__(self):\n",
        "        return len(self.files_test)"
      ]
    },
    {
      "cell_type": "code",
      "execution_count": null,
      "metadata": {
        "id": "8949YTTWpy_4"
      },
      "outputs": [],
      "source": [
        "parser = argparse.ArgumentParser(\n",
        "    description=\"PyTorch implements `Unpaired Image-to-Image Translation using Cycle-Consistent Adversarial Networks`\")\n",
        "parser.add_argument(\"--dataroot\", type=str, default=\"./datasets\",\n",
        "                    help=\"path to datasets. (default:./data)\")\n",
        "parser.add_argument(\"--dataset\", type=str, default=\"SEM\",\n",
        "                    help=\"dataset name. (default:`SEM`)\"\n",
        "                         \"Option: [apple2orange, summer2winter_yosemite, horse2zebra, monet2photo, \"\n",
        "                         \"cezanne2photo, ukiyoe2photo, vangogh2photo, maps, facades, selfie2anime, \"\n",
        "                         \"iphone2dslr_flower, ae_photos, ]\")\n",
        "parser.add_argument(\"--epochs\", default=200, type=int, metavar=\"N\", \n",
        "                    help=\"number of total epochs to run\")\n",
        "parser.add_argument(\"--decay_epochs\", type=int, default=100,\n",
        "                    help=\"epoch to start linearly decaying the learning rate to 0. (default:100)\")\n",
        "parser.add_argument(\"-b\", \"--batch-size\", default=80, type=int,\n",
        "                    metavar=\"N\",\n",
        "                    help=\"mini-batch size (default: 1), this is the total \"\n",
        "                         \"batch size of all GPUs on the current node when \"\n",
        "                         \"using Data Parallel or Distributed Data Parallel\")\n",
        "parser.add_argument(\"--lr\", type=float, default=0.0002,\n",
        "                    help=\"learning rate. (default:0.0002)\")\n",
        "parser.add_argument(\"-p\", \"--print-freq\", default=100, type=int,\n",
        "                    metavar=\"N\", help=\"print frequency. (default:100)\")\n",
        "parser.add_argument(\"--cuda\", action=\"store_true\", help=\"Enables cuda\")\n",
        "parser.add_argument(\"--resume_from\", default=f'/content/drive/MyDrive/Colab_Notebooks/Dacon/Samsung_AI_Challenge/CycleGAN/all_(max200_None_Resize)_{55}_all.tar', type=str, help=\"path to All_state_dict() for continue training\")\n",
        "# parser.add_argument(\"--netG_A2B\", default=\"\", help=\"path to netG_A2B (to continue training)\")\n",
        "# parser.add_argument(\"--netG_B2A\", default=\"\", help=\"path to netG_B2A (to continue training)\")\n",
        "# parser.add_argument(\"--netD_A\", default=\"\", help=\"path to netD_A (to continue training)\")\n",
        "# parser.add_argument(\"--netD_B\", default=\"\", help=\"path to netD_B (to continue training)\")\n",
        "# parser.add_argument(\"--netG_A2B\", default=f\"/content/drive/MyDrive/Colab_Notebooks/Dacon/Samsung_AI_Challenge/CycleGAN/netG_A2B_itr0_epoch(max200_None_Resize)_{30}.pth\", help=\"path to netG_A2B (to continue training)\")\n",
        "# parser.add_argument(\"--netG_B2A\", default= f\"/content/drive/MyDrive/Colab_Notebooks/Dacon/Samsung_AI_Challenge/CycleGAN/netG_B2A_itr0_epoch(max200_None_Resize)_{30}.pth\", help=\"path to netG_B2A (to continue training)\")\n",
        "# parser.add_argument(\"--netD_A\", default=f\"/content/drive/MyDrive/Colab_Notebooks/Dacon/Samsung_AI_Challenge/CycleGAN/netD_A_itr0_epoch(max200_None_Resize)_{30}.pth\", help=\"path to netD_A (to continue training)\")\n",
        "# parser.add_argument(\"--netD_B\", default= f\"/content/drive/MyDrive/Colab_Notebooks/Dacon/Samsung_AI_Challenge/CycleGAN/netD_B_itr0_epoch(max200_None_Resize)_{30}.pth\", help=\"path to netD_B (to continue training)\")\n",
        "\n",
        "parser.add_argument(\"--image-size\", type=int, default=128,\n",
        "                    help=\"size of the data crop (squared assumed). (default:256)\")\n",
        "parser.add_argument(\"--outf\", default=\"./outputs\",\n",
        "                    help=\"folder to output images. (default:`./outputs`).\")\n",
        "parser.add_argument(\"--manualSeed\", type=int,\n",
        "                    help=\"Seed for initializing training. (default:none)\")\n",
        "\n",
        "args = parser.parse_args('')\n",
        "print(args)"
      ]
    },
    {
      "cell_type": "code",
      "execution_count": null,
      "metadata": {
        "id": "xHtZ2PMEp0L6"
      },
      "outputs": [],
      "source": [
        "try:\n",
        "    os.makedirs(args.outf)\n",
        "except OSError:\n",
        "    pass\n",
        "\n",
        "try:\n",
        "    os.makedirs(\"weights\")\n",
        "except OSError:\n",
        "    pass\n",
        "\n",
        "if args.manualSeed is None:\n",
        "    args.manualSeed = 1627\n",
        "print(\"Random Seed: \", args.manualSeed)\n",
        "random.seed(args.manualSeed)\n",
        "torch.manual_seed(args.manualSeed)\n",
        "\n",
        "cudnn.benchmark = True"
      ]
    },
    {
      "cell_type": "code",
      "execution_count": null,
      "metadata": {
        "id": "ZYrXb-snp13x"
      },
      "outputs": [],
      "source": [
        "# Dataset\n",
        "dataset = ImageDataset(root=os.path.join(args.dataroot, args.dataset),\n",
        "                       transform=transforms.Compose([\n",
        "                           transforms.RandomHorizontalFlip(),\n",
        "                           transforms.ToTensor(),\n",
        "                           #transforms.Normalize((0.5, 0.5, 0.5), (0.5, 0.5, 0.5))\n",
        "                           ]))\n",
        "\n",
        "test_dataset = TestDataset('/content/test/SEM/*', transform=transforms.Compose([\n",
        "                           # transforms.RandomHorizontalFlip(),\n",
        "                           transforms.ToTensor(),\n",
        "                           #transforms.Normalize((0.5, 0.5, 0.5), (0.5, 0.5, 0.5))\n",
        "                           ]))\n",
        "\n",
        "print(len(dataset))\n",
        "print(len(test_dataset))\n",
        "print(dataset[0])\n",
        "dataloader = torch.utils.data.DataLoader(dataset, batch_size=args.batch_size, shuffle=True, pin_memory=True)\n",
        "test_dataloader = torch.utils.data.DataLoader(test_dataset, batch_size=args.batch_size, shuffle=True, pin_memory=True)"
      ]
    },
    {
      "cell_type": "code",
      "execution_count": null,
      "metadata": {
        "id": "tzIgCFgEp6HI"
      },
      "outputs": [],
      "source": [
        "try:\n",
        "    os.makedirs(os.path.join(args.outf, args.dataset, \"A\"))\n",
        "    os.makedirs(os.path.join(args.outf, args.dataset, \"B\"))\n",
        "except OSError:\n",
        "    pass\n",
        "\n",
        "try:\n",
        "    os.makedirs(os.path.join(\"weights\", args.dataset))\n",
        "except OSError:\n",
        "    pass"
      ]
    },
    {
      "cell_type": "code",
      "execution_count": null,
      "metadata": {
        "id": "g-AYCdYAp7tM"
      },
      "outputs": [],
      "source": [
        "device = torch.device(\"cuda:0\" if torch.cuda.is_available() else \"cpu\")\n",
        "print(device)\n",
        "# create model\n",
        "netG_A2B = Generator().to(device)\n",
        "netG_B2A = Generator().to(device)\n",
        "netD_A = Discriminator().to(device)\n",
        "netD_B = Discriminator().to(device)\n",
        "\n",
        "netG_A2B.apply(weights_init)\n",
        "netG_B2A.apply(weights_init)\n",
        "netD_A.apply(weights_init)\n",
        "netD_B.apply(weights_init)\n",
        "\n",
        "# define loss function (adversarial_loss) and optimizer\n",
        "cycle_loss = torch.nn.L1Loss().to(device)\n",
        "identity_loss = torch.nn.L1Loss().to(device)\n",
        "adversarial_loss = torch.nn.MSELoss().to(device)\n",
        "\n",
        "optimizer_G = torch.optim.AdamW(itertools.chain(netG_A2B.parameters(), netG_B2A.parameters()),\n",
        "                                lr=args.lr, betas=(0.5, 0.999))\n",
        "optimizer_D_A = torch.optim.AdamW(netD_A.parameters(), lr=args.lr, betas=(0.5, 0.999))\n",
        "optimizer_D_B = torch.optim.AdamW(netD_B.parameters(), lr=args.lr, betas=(0.5, 0.999))\n",
        "\n",
        "lr_lambda = DecayLR(args.epochs, 0, args.decay_epochs).step\n",
        "lr_scheduler_G = torch.optim.lr_scheduler.LambdaLR(optimizer_G, lr_lambda=lr_lambda)\n",
        "lr_scheduler_D_A = torch.optim.lr_scheduler.LambdaLR(optimizer_D_A, lr_lambda=lr_lambda)\n",
        "lr_scheduler_D_B = torch.optim.lr_scheduler.LambdaLR(optimizer_D_B, lr_lambda=lr_lambda)\n",
        "\n",
        "print(args.resume_from)\n",
        "if args.resume_from != \"\":\n",
        "    checkpoint = torch.load(args.resume_from)\n",
        "    netG_A2B.load_state_dict(checkpoint['netG_A2B'])\n",
        "    netG_B2A.load_state_dict(checkpoint['netG_B2A'])\n",
        "    netD_A.load_state_dict(checkpoint['netD_A'])\n",
        "    netD_B.load_state_dict(checkpoint['netD_B'])\n",
        "    optimizer_G.load_state_dict(checkpoint['optimizer_G'])\n",
        "    optimizer_D_A.load_state_dict(checkpoint['optimizer_D_A'])\n",
        "    optimizer_D_B.load_state_dict(checkpoint['optimizer_D_B'])\n",
        "    lr_scheduler_G.load_state_dict(checkpoint['lr_scheduler_G'])\n",
        "    lr_scheduler_D_A.load_state_dict(checkpoint['lr_scheduler_D_A'])\n",
        "    lr_scheduler_D_B.load_state_dict(checkpoint['lr_scheduler_D_B'])\n",
        "# if args.netG_A2B != \"\":\n",
        "#     netG_A2B.load_state_dict(torch.load(args.netG_A2B))\n",
        "# if args.netG_B2A != \"\":\n",
        "#     netG_B2A.load_state_dict(torch.load(args.netG_B2A))\n",
        "# if args.netD_A != \"\":\n",
        "#     netD_A.load_state_dict(torch.load(args.netD_A))\n",
        "# if args.netD_B != \"\":\n",
        "#     netD_B.load_state_dict(torch.load(args.netD_B))"
      ]
    },
    {
      "cell_type": "code",
      "execution_count": null,
      "metadata": {
        "id": "tcvNwvoep9W7"
      },
      "outputs": [],
      "source": [
        "g_losses = []\n",
        "d_losses = []\n",
        "\n",
        "identity_losses = []\n",
        "gan_losses = []\n",
        "cycle_losses = []\n",
        "\n",
        "fake_A_buffer = ReplayBuffer()\n",
        "fake_B_buffer = ReplayBuffer()\n"
      ]
    },
    {
      "cell_type": "code",
      "execution_count": null,
      "metadata": {
        "id": "nZz7NFHpp_dA"
      },
      "outputs": [],
      "source": [
        "wandb.init()\n",
        "step = 0\n",
        "for epoch in range(55, args.epochs):\n",
        "    progress_bar = tqdm(enumerate(dataloader), total=len(dataloader))\n",
        "    for i, data in progress_bar:\n",
        "        # get batch size data\n",
        "        with torch.cuda.amp.autocast():\n",
        "            real_image_A = data[\"A\"].to(device)\n",
        "            real_image_B = data[\"B\"].to(device)\n",
        "            batch_size = real_image_A.size(0)\n",
        "\n",
        "            # real data label is 1, fake data label is 0.\n",
        "            real_label = torch.full((batch_size, 1), 1, device=device, dtype=torch.float32)\n",
        "            fake_label = torch.full((batch_size, 1), 0, device=device, dtype=torch.float32)\n",
        "\n",
        "            ##############################################\n",
        "            # (1) Update G network: Generators A2B and B2A\n",
        "            ##############################################\n",
        "\n",
        "            # Set G_A and G_B's gradients to zero\n",
        "            optimizer_G.zero_grad()\n",
        "\n",
        "            # Identity loss\n",
        "            # G_B2A(A) should equal A if real A is fed\n",
        "            # print(real_image_A,\"의 type은 :\", type(real_image_A))\n",
        "            identity_image_A = netG_B2A(real_image_A)\n",
        "            loss_identity_A = identity_loss(identity_image_A, real_image_A) * 5.0 # A를 B2A를 통해 나온 A와 실제 A와의 L1 loss\n",
        "            # G_A2B(B) should equal B if real B is fed\n",
        "            identity_image_B = netG_A2B(real_image_B)\n",
        "            loss_identity_B = identity_loss(identity_image_B, real_image_B) * 5.0 # B를 A2B를 통해 나온 B와 실제 B와의 L1 loss\n",
        "\n",
        "            # GAN loss\n",
        "            # GAN loss D_A(G_A(B))\n",
        "            fake_image_A = netG_B2A(real_image_B)\n",
        "            fake_output_A = netD_A(fake_image_A)\n",
        "            loss_GAN_B2A = adversarial_loss(fake_output_A, real_label) # cycle_consistency_loss # A -> ^B -> ^A와 실제 A와의 비교를 통해 나오는 loss, D_A((G_A(B)))\n",
        "            # GAN loss D_B(G_B(A))\n",
        "            fake_image_B = netG_A2B(real_image_A)\n",
        "            fake_output_B = netD_B(fake_image_B)\n",
        "            loss_GAN_A2B = adversarial_loss(fake_output_B, real_label)\n",
        "\n",
        "            # Cycle loss\n",
        "            recovered_image_A = netG_B2A(fake_image_B)\n",
        "            loss_cycle_ABA = cycle_loss(recovered_image_A, real_image_A) * 10.0\n",
        "\n",
        "            recovered_image_B = netG_A2B(fake_image_A)\n",
        "            loss_cycle_BAB = cycle_loss(recovered_image_B, real_image_B) * 10.0\n",
        "\n",
        "            # Combined loss and calculate gradients\n",
        "            errG = loss_identity_A + loss_identity_B + loss_GAN_A2B + loss_GAN_B2A + loss_cycle_ABA + loss_cycle_BAB\n",
        "\n",
        "            # Calculate gradients for G_A and G_B\n",
        "            errG.backward()\n",
        "            # Update G_A and G_B's weights\n",
        "            optimizer_G.step()\n",
        "\n",
        "            ##############################################\n",
        "            # (2) Update D network: Discriminator A\n",
        "            ##############################################\n",
        "\n",
        "            # Set D_A gradients to zero\n",
        "            optimizer_D_A.zero_grad()\n",
        "\n",
        "            # Real A image loss\n",
        "            real_output_A = netD_A(real_image_A)\n",
        "            errD_real_A = adversarial_loss(real_output_A, real_label)\n",
        "\n",
        "            # Fake A image loss\n",
        "            fake_image_A = fake_A_buffer.push_and_pop(fake_image_A)\n",
        "            fake_output_A = netD_A(fake_image_A.detach())\n",
        "            errD_fake_A = adversarial_loss(fake_output_A, fake_label)\n",
        "\n",
        "            # Combined loss and calculate gradients\n",
        "            errD_A = (errD_real_A + errD_fake_A) / 2\n",
        "\n",
        "            # Calculate gradients for D_A\n",
        "            errD_A.backward()\n",
        "            # Update D_A weights\n",
        "            optimizer_D_A.step()\n",
        "\n",
        "            ##############################################\n",
        "            # (3) Update D network: Discriminator B\n",
        "            ##############################################\n",
        "\n",
        "            # Set D_B gradients to zero\n",
        "            optimizer_D_B.zero_grad()\n",
        "        \n",
        "            # Real B image loss\n",
        "            real_output_B = netD_B(real_image_B)\n",
        "            errD_real_B = adversarial_loss(real_output_B, real_label)\n",
        "\n",
        "            # Fake B image loss\n",
        "            fake_image_B = fake_B_buffer.push_and_pop(fake_image_B)\n",
        "            fake_output_B = netD_B(fake_image_B.detach())\n",
        "            errD_fake_B = adversarial_loss(fake_output_B, fake_label)\n",
        "\n",
        "            # Combined loss and calculate gradients\n",
        "            errD_B = (errD_real_B + errD_fake_B) / 2\n",
        "\n",
        "            # Calculate gradients for D_B\n",
        "            errD_B.backward()\n",
        "            # Update D_B weights\n",
        "            optimizer_D_B.step()\n",
        "\n",
        "            progress_bar.set_description(\n",
        "                f\"[{epoch}/{args.epochs - 1}][{i}/{len(dataloader) - 1}] \"\n",
        "                f\"Loss_D: {(errD_A + errD_B).item():.4f} \"\n",
        "                f\"Loss_G: {errG.item():.4f} \"\n",
        "                f\"Loss_G_identity: {(loss_identity_A + loss_identity_B).item():.4f} \"\n",
        "                f\"loss_G_GAN: {(loss_GAN_A2B + loss_GAN_B2A).item():.4f} \"\n",
        "                f\"loss_G_cycle: {(loss_cycle_ABA + loss_cycle_BAB).item():.4f}\")\n",
        "\n",
        "            if i % args.print_freq == 0:\n",
        "                vutils.save_image(real_image_A,\n",
        "                                f\"{args.outf}/{args.dataset}/A/real_samples_epoch_{epoch}_{i}.png\",\n",
        "                                normalize=True)\n",
        "                vutils.save_image(real_image_B,\n",
        "                                f\"{args.outf}/{args.dataset}/B/real_samples_epoch_{epoch}_{i}.png\",\n",
        "                                normalize=True)\n",
        "                fake_image_A = netG_B2A(real_image_B).data\n",
        "                fake_image_B = netG_A2B(real_image_A).data\n",
        "\n",
        "                vutils.save_image(fake_image_A.detach(),\n",
        "                                f\"{args.outf}/{args.dataset}/A/fake_samples_epoch_{epoch}_{i}.png\",\n",
        "                                normalize=True)\n",
        "                vutils.save_image(fake_image_B.detach(),\n",
        "                                f\"{args.outf}/{args.dataset}/B/fake_samples_epoch_{epoch}_{i}.png\",\n",
        "                                normalize=True)\n",
        "                wandb.log({\n",
        "                    \"real_image_A\" : wandb.Image(real_image_A),\n",
        "                    \"real_image_B\" : wandb.Image(real_image_B),\n",
        "                    \"fake_image_A\" : wandb.Image(fake_image_A),\n",
        "                    \"fake_image_B\" : wandb.Image(fake_image_B),\n",
        "                    \"g_losses\": errG.item(),\n",
        "                    \"d_losses\": (errD_A + errD_B).item(),\n",
        "                    \"identity_losses\": (loss_identity_A + loss_identity_B).item(),\n",
        "                    \"gan_losses\":(loss_GAN_A2B + loss_GAN_B2A).item(),\n",
        "                    \"cycle_losses\": (loss_cycle_ABA + loss_cycle_BAB).item()\n",
        "                })\n",
        "                g_losses.append(errG.item())\n",
        "                d_losses.append((errD_A + errD_B).item())\n",
        "\n",
        "                identity_losses.append((loss_identity_A + loss_identity_B).item())\n",
        "                gan_losses.append((loss_GAN_A2B + loss_GAN_B2A).item())\n",
        "                cycle_losses.append((loss_cycle_ABA + loss_cycle_BAB).item())\n",
        "\n",
        "\n",
        "        # do check pointing\n",
        "    if epoch % 5 == 0:\n",
        "        torch.save({\n",
        "            'netG_A2B' : netG_A2B.state_dict(),\n",
        "            'netG_B2A' : netG_B2A.state_dict(),\n",
        "            'netD_A' : netD_A.state_dict(),\n",
        "            'netD_B' : netD_B.state_dict(),\n",
        "            'optimizer_G' : optimizer_G.state_dict(),\n",
        "            'optimizer_D_A' : optimizer_D_A.state_dict(),\n",
        "            'optimizer_D_B' : optimizer_D_B.state_dict(),\n",
        "            'lr_scheduler_G' : lr_scheduler_G.state_dict(),\n",
        "            'lr_scheduler_D_A' : lr_scheduler_D_A.state_dict(),\n",
        "            'lr_scheduler_D_B' : lr_scheduler_D_B.state_dict(),\n",
        "        },\n",
        "        f\"/content/drive/MyDrive/Colab_Notebooks/Dacon/Samsung_AI_Challenge/CycleGAN/all_(max200_None_Resize)_{epoch}_all.tar\")\n",
        "        # torch.save(netG_A2B.state_dict(), f\"/content/drive/MyDrive/Colab_Notebooks/Dacon/Samsung_AI_Challenge/CycleGAN/netG_A2B_itr0_epoch(max200_None_Resize)_{epoch}.pth\")\n",
        "        # torch.save(netG_B2A.state_dict(), f\"/content/drive/MyDrive/Colab_Notebooks/Dacon/Samsung_AI_Challenge/CycleGAN/netG_B2A_itr0_epoch(max200_None_Resize)_{epoch}.pth\")\n",
        "        # torch.save(netD_A.state_dict(), f\"/content/drive/MyDrive/Colab_Notebooks/Dacon/Samsung_AI_Challenge/CycleGAN/netD_A_itr0_epoch(max200_None_Resize)_{epoch}.pth\")\n",
        "        # torch.save(netD_B.state_dict(), f\"/content/drive/MyDrive/Colab_Notebooks/Dacon/Samsung_AI_Challenge/CycleGAN/netD_B_itr0_epoch(max200_None_Resize)_{epoch}.pth\")\n",
        "\n",
        "    # Update learning rates\n",
        "    lr_scheduler_G.step()\n",
        "    lr_scheduler_D_A.step()\n",
        "    lr_scheduler_D_B.step()\n",
        "    # 필요하면 GT와 A/real_sample와 B/fake_sample을 pair로 matplotlib으로 확인할 수 있도록 logging해야할 듯 함.\n",
        "\n",
        "# save last check pointing\n",
        "torch.save(netG_A2B.state_dict(), f\"/content/drive/MyDrive/Colab_Notebooks/Dacon/Samsung_AI_Challengehts/CycleGAN/netG_A2B_itr0_(max200_None_Resize).pth\")\n",
        "torch.save(netG_B2A.state_dict(), f\"/content/drive/MyDrive/Colab_Notebooks/Dacon/Samsung_AI_Challenge/CycleGAN/netG_B2A_itr0_(max200_None_Resize).pth\")\n",
        "torch.save(netD_A.state_dict(), f\"/content/drive/MyDrive/Colab_Notebooks/Dacon/Samsung_AI_Challenge/CycleGAN/netD_A_itr0_(max200_None_Resize).pth\")\n",
        "torch.save(netD_B.state_dict(), f\"/content/drive/MyDrive/Colab_Notebooks/Dacon/Samsung_AI_Challenge/CycleGAN/netD_B_itr0_(max200_None_Resize).pth\")"
      ]
    },
    {
      "cell_type": "markdown",
      "metadata": {
        "id": "LBGoNV_9E6Zm"
      },
      "source": [
        "# inference"
      ]
    },
    {
      "cell_type": "code",
      "execution_count": null,
      "metadata": {
        "id": "Xo0wpbs_o2Sx"
      },
      "outputs": [],
      "source": [
        "batch_size = 1\n",
        "real_label = torch.full((batch_size, 1), 1, device=device, dtype=torch.float32)\n",
        "fake_label = torch.full((batch_size, 1), 0, device=device, dtype=torch.float32)\n",
        "loss_identity_A = identity_loss(identity_image_A, real_image_A) * 5.0 # A를 B2A를 통해 나온 A와 실제 A와의 L1 loss\n",
        "loss_identity_B = identity_loss(identity_image_B, real_image_B) * 5.0 # B를 A2B를 통해 나온 B와 실제 B와의 L1 loss\n",
        "loss_GAN_B2A = adversarial_loss(fake_output_A, real_label) # cycle_consistency_loss # A -> ^B -> ^A와 실제 A와의 비교를 통해 나오는 loss, D_A((G_A(B)))\n",
        "loss_GAN_A2B = adversarial_loss(fake_output_B, real_label)\n",
        "\n",
        "fake_image_A = netG_B2A(real_image_B)\n",
        "fake_output_A = netD_A(fake_image_A)\n",
        "loss_GAN_B2A = adversarial_loss(fake_output_A, real_label) # cycle_consistency_loss # A -> ^B -> ^A와 실제 A와의 비교를 통해 나오는 loss, D_A((G_A(B)))\n",
        "# GAN loss D_B(G_B(A))\n",
        "fake_image_B = netG_A2B(real_image_A)\n",
        "fake_output_B = netD_B(fake_image_B)\n",
        "loss_GAN_A2B = adversarial_loss(fake_output_B, real_label)"
      ]
    },
    {
      "cell_type": "code",
      "execution_count": null,
      "metadata": {
        "id": "mngjykXord3b"
      },
      "outputs": [],
      "source": [
        " # Cycle loss\n",
        "recovered_image_A = netG_B2A(fake_image_B)\n",
        "loss_cycle_ABA = cycle_loss(recovered_image_A, real_image_A) * 10.0\n",
        "\n",
        "recovered_image_B = netG_A2B(fake_image_A)\n",
        "loss_cycle_BAB = cycle_loss(recovered_image_B, real_image_B) * 10.0"
      ]
    },
    {
      "cell_type": "code",
      "execution_count": null,
      "metadata": {
        "id": "Z450_tuBua1z"
      },
      "outputs": [],
      "source": [
        "import matplotlib.pyplot as plt\n",
        "from matplotlib.colors import LinearSegmentedColormap\n",
        "max_epoch = 30\n",
        "y = max_epoch // 5 + 1\n",
        "img_idx = 20000\n",
        "fig, axes = plt.subplots(y, 4, figsize=(10, y * 5))\n",
        "# model_A2b = loaded_netG_A2B\n",
        "colors = ['red', 'brown', 'yellow', 'green', 'blue']\n",
        "cmap = LinearSegmentedColormap.from_list('name', colors)\n",
        "norm = plt.Normalize(0, 255)\n",
        "for idx, epoch in enumerate(range(0, max_epoch + 1, 5)):\n",
        "    # loaded_netG_B2A.load_state_dict(torch.load(f\"/content/drive/MyDrive/Colab_Notebooks/Dacon/Samsung_AI_Challenge/CycleGAN/netG_B2A_epoch_{epoch}.pth\"))\n",
        "    loaded_netG_A2B.load_state_dict(torch.load(f\"/content/drive/MyDrive/Colab_Notebooks/Dacon/Samsung_AI_Challenge/CycleGAN/netG_A2B_itr0_epoch(max200_None_Resize)_{epoch}.pth\"))\n",
        "    loaded_netG_B2A.load_state_dict(torch.load(f\"/content/drive/MyDrive/Colab_Notebooks/Dacon/Samsung_AI_Challenge/CycleGAN/netG_B2A_itr0_epoch(max200_None_Resize)_{epoch}.pth\"))\n",
        "    \n",
        "    real_label = torch.full((1, 1), 1, device=device, dtype=torch.float32)\n",
        "    fake_label = torch.full((1, 1), 0, device=device, dtype=torch.float32)\n",
        "\n",
        "    test_image = cv2.imread(sem_list_iter0[img_idx],cv2.IMREAD_GRAYSCALE)\n",
        "    depth_image = cv2.imread(depth_list[img_idx], cv2.IMREAD_GRAYSCALE)\n",
        "    \n",
        "    identity_image_A = loaded_netG_B2A(torch.from_numpy(cv2.imread(sem_list_iter0[img_idx],cv2.IMREAD_GRAYSCALE)).unsqueeze(0).float().to(device))\n",
        "    identity_image_B = loaded_netG_A2B(torch.from_numpy(cv2.imread(depth_list[img_idx],cv2.IMREAD_GRAYSCALE)).unsqueeze(0).float().to(device))\n",
        "\n",
        "    fake_image_A = netG_B2A(torch.from_numpy(depth_image).unsqueeze(0).float().to(device))\n",
        "    fake_output_A = netD_A(fake_image_A)\n",
        "    loss_GAN_B2A = adversarial_loss(fake_output_A, real_label) # cycle_consistency_loss # A -> ^B -> ^A와 실제 A와의 비교를 통해 나오는 loss, D_A((G_A(B)))\n",
        "\n",
        "    fake_image_B = netG_A2B(torch.from_numpy(test_image).unsqueeze(0).float().to(device))\n",
        "    fake_output_B = netD_B(fake_image_B)\n",
        "    loss_GAN_A2B = adversarial_loss(fake_output_B, real_label)\n",
        "\n",
        "    recovered_image_A = netG_B2A(fake_image_B)\n",
        "    loss_cycle_ABA = cycle_loss(recovered_image_A, torch.from_numpy(test_image).unsqueeze(0).float().to(device)) * 10.0\n",
        "\n",
        "    \n",
        "    recovered_image_B = netG_A2B(fake_image_A)\n",
        "    loss_cycle_BAB = cycle_loss(recovered_image_B, torch.from_numpy(depth_image).unsqueeze(0).float().to(device)) * 10.0\n",
        "\n",
        "    print(test_image[0][0].item(), end=\", \")\n",
        "    axes[idx][0].imshow(test_image, norm=norm, cmap='rainbow')\n",
        "    # predicted_image = 0.5 * (loaded_netG_A2B(torch.from_numpy(test_image).unsqueeze(0).float().to(device)).data + 1.0)\n",
        "    predicted_image_A2B = loaded_netG_A2B(torch.from_numpy(cv2.imread(sem_list_iter0[img_idx],cv2.IMREAD_GRAYSCALE)).unsqueeze(0).float().to(device))\n",
        "    predicted_image_A2B = predicted_image_A2B.unsqueeze(0)\n",
        "    # predicted_image_A2B = F.interpolate(predicted_image_A2B, size=(72,48), mode='bicubic')\n",
        "    # print(predicted_image_A2B.shape)\n",
        "    print(predicted_image_A2B[0,0,0, 0].item(), end=\", \")\n",
        "\n",
        "    predicted_image_B2A = loaded_netG_B2A(torch.from_numpy(cv2.imread(depth_list[img_idx],cv2.IMREAD_GRAYSCALE)).unsqueeze(0).float().to(device))\n",
        "    predicted_image_B2A = predicted_image_B2A.unsqueeze(0)\n",
        "    #predicted_image_B2A = F.interpolate(predicted_image_B2A, size=(72,48), mode='bicubic')\n",
        "    # print(predicted_image_B2A.shape)\n",
        "    print(predicted_image_B2A[0, 0, 0, 0].item(), end=\", \")\n",
        "\n",
        "    axes[idx][1].imshow(predicted_image_A2B.squeeze().detach().cpu() * 255, norm=norm, cmap='rainbow')\n",
        "    axes[idx][2].imshow(predicted_image_B2A.squeeze().detach().cpu() * 255, norm=norm, cmap='rainbow')\n",
        "    axes[idx][3].imshow(depth_image.astype(int), norm=norm, cmap='rainbow')\n",
        "    print(depth_image[0][0].item())\n",
        "    print(type(identity_loss))\n",
        "    print(f\"loss_identity_A : {identity_loss(identity_image_A,torch.from_numpy(test_image).unsqueeze(0).float().to(device)) * 5.0}\")\n",
        "    print(f\"loss_identity_B : {identity_loss(identity_image_B,torch.from_numpy(depth_image).unsqueeze(0).float().to(device)) * 5.0},\")\n",
        "    print(f\"loss_GAN_B2A : {loss_GAN_B2A}\")\n",
        "    print(f\"loss_GAN_A2B : {loss_GAN_B2A}\")\n",
        "    print(f\"loss_cycle_ABA : {loss_cycle_ABA}\")\n",
        "    print(f\"loss_cycle_BAB : {loss_cycle_BAB}\")\n",
        "# fig.colorbar(orientation='horizontal')\n"
      ]
    },
    {
      "cell_type": "code",
      "execution_count": null,
      "metadata": {
        "id": "st5oZQHim0ES"
      },
      "outputs": [],
      "source": [
        "import matplotlib.pyplot as plt\n",
        "from matplotlib.colors import LinearSegmentedColormap\n",
        "max_epoch = 45\n",
        "y = max_epoch // 5 + 1\n",
        "img_idx = 200\n",
        "fig, axes = plt.subplots(y, 4, figsize=(10, y * 5))\n",
        "# model_A2b = loaded_netG_A2B\n",
        "colors = ['red', 'brown', 'yellow', 'green', 'blue']\n",
        "cmap = LinearSegmentedColormap.from_list('name', colors)\n",
        "norm = plt.Normalize(0, 255)\n",
        "for idx, epoch in enumerate(range(0, max_epoch + 1, 5)):\n",
        "    # loaded_netG_B2A.load_state_dict(torch.load(f\"/content/drive/MyDrive/Colab_Notebooks/Dacon/Samsung_AI_Challenge/CycleGAN/netG_B2A_epoch_{epoch}.pth\"))\n",
        "    loaded_netG_A2B.load_state_dict(torch.load(f\"/content/drive/MyDrive/Colab_Notebooks/Dacon/Samsung_AI_Challenge/CycleGAN/netG_A2B_itr0_epoch_{epoch}.pth\"))\n",
        "    loaded_netG_B2A.load_state_dict(torch.load(f\"/content/drive/MyDrive/Colab_Notebooks/Dacon/Samsung_AI_Challenge/CycleGAN/netG_B2A_itr0_epoch_{epoch}.pth\"))\n",
        "    test_image = cv2.imread(sem_list_iter0[img_idx],cv2.IMREAD_GRAYSCALE)\n",
        "    print(test_image[0][0].item(), end=\", \")\n",
        "    axes[idx][0].imshow(test_image, cmap='gray')\n",
        "    # predicted_image = 0.5 * (loaded_netG_A2B(torch.from_numpy(test_image).unsqueeze(0).float().to(device)).data + 1.0)\n",
        "    predicted_image_A2B = loaded_netG_A2B(torch.from_numpy(cv2.resize(cv2.imread(sem_list_iter0[img_idx],cv2.IMREAD_GRAYSCALE), (256, 256), interpolation=cv2.INTER_CUBIC)).unsqueeze(0).float().to(device))\n",
        "    predicted_image_A2B = predicted_image_A2B.unsqueeze(0)\n",
        "    predicted_image_A2B = F.interpolate(predicted_image_A2B, size=(72,48), mode='bicubic')\n",
        "    # print(predicted_image_A2B.shape)\n",
        "    print(predicted_image_A2B[0,0,0, 0].item() * 255.0, end=\", \")\n",
        "\n",
        "    predicted_image_B2A = loaded_netG_B2A(torch.from_numpy(cv2.resize(cv2.imread(depth_list[img_idx],cv2.IMREAD_GRAYSCALE), (256, 256), interpolation=cv2.INTER_CUBIC)).unsqueeze(0).float().to(device))\n",
        "    predicted_image_B2A = predicted_image_B2A.unsqueeze(0)\n",
        "    predicted_image_B2A = F.interpolate(predicted_image_B2A, size=(72,48), mode='bicubic')\n",
        "    # print(predicted_image_B2A.shape)\n",
        "    print(predicted_image_B2A[0, 0, 0, 0].item() * 255.0, end=\", \")\n",
        "\n",
        "    depth_image = cv2.imread(depth_list[img_idx], cv2.IMREAD_GRAYSCALE)\n",
        "    print(depth_image[0][0].item())\n",
        "    axes[idx][1].imshow(predicted_image_A2B.squeeze().detach().cpu(), cmap='gray')\n",
        "    axes[idx][2].imshow(predicted_image_B2A.squeeze().detach().cpu())\n",
        "    axes[idx][3].imshow(depth_image)\n"
      ]
    },
    {
      "cell_type": "code",
      "execution_count": null,
      "metadata": {
        "id": "aUyRPjNPQ7js"
      },
      "outputs": [],
      "source": [
        "import matplotlib.pyplot as plt\n",
        "max_epoch = 25\n",
        "y = max_epoch // 5 + 1\n",
        "img_idx = 100\n",
        "fig, axes = plt.subplots(y, 3, figsize=(15, y * 5))\n",
        "# model_A2b = loaded_netG_A2B\n",
        "for idx, epoch in enumerate(range(0, max_epoch + 1, 5)):\n",
        "    loaded_netG_B2A.load_state_dict(torch.load(f\"/content/drive/MyDrive/Colab_Notebooks/Dacon/Samsung_AI_Challenge/CycleGAN/netG_B2A_epoch_{epoch}.pth\"))\n",
        "    loaded_netG_A2B.load_state_dict(torch.load(f\"/content/drive/MyDrive/Colab_Notebooks/Dacon/Samsung_AI_Challenge/CycleGAN/netG_A2B_epoch_{epoch}.pth\"))\n",
        "    test_image = cv2.resize(cv2.imread(train_sem_list[100],cv2.IMREAD_GRAYSCALE)/255.0, (256,256), interpolation=cv2.INTER_CUBIC)\n",
        "    \n",
        "    axes[idx][0].imshow(cv2.resize(test_image, (48,72), interpolation=cv2.INTER_CUBIC), 'gray')\n",
        "    # axes[idx][0].imshow(test_image, 'gray')\n",
        "    predicted_image_B2A = loaded_netG_B2A(torch.from_numpy(test_image).unsqueeze(0).float().to(device))\n",
        "\n",
        "    predicted_image_A2B = loaded_netG_A2B(torch.from_numpy(test_image).unsqueeze(0).float().to(device))\n",
        "    predicted_image_A2B = predicted_image_A2B.unsqueeze(0)\n",
        "    predicted_image_A2B = F.interpolate(predicted_image_A2B, size=(72,48), mode='bicubic')\n",
        "    axes[idx][1].imshow(predicted_image_B2A.squeeze().detach().cpu(), 'gray')\n",
        "    axes[idx][2].imshow(predicted_image_A2B.squeeze().detach().cpu(), 'gray')\n",
        "    # axes[idx][3].imshow(cv2.imread(depth_list[idx], cv2.IMREAD_GRAYSCALE)/255.0, 'gray')"
      ]
    },
    {
      "cell_type": "code",
      "execution_count": null,
      "metadata": {
        "id": "GhYQS12bcuqp"
      },
      "outputs": [],
      "source": [
        "test_dataloader = torch.utils.data.DataLoader(test_dataset, batch_size=64, shuffle=False, pin_memory=True)"
      ]
    },
    {
      "cell_type": "code",
      "execution_count": null,
      "metadata": {
        "id": "WICVhEsWfLoZ"
      },
      "outputs": [],
      "source": [
        "print(iter(test_dataloader))"
      ]
    },
    {
      "cell_type": "code",
      "execution_count": null,
      "metadata": {
        "id": "HeNb8CWlkXYZ"
      },
      "outputs": [],
      "source": [
        "inference_model = Generator().to(device)\n",
        "inference_model.load_state_dict(torch.load(f\"/content/drive/MyDrive/Colab_Notebooks/Dacon/Samsung_AI_Challenge/CycleGAN/netG_A2B_itr0_epoch(max200_None_Resize)_{30}.pth\"))"
      ]
    },
    {
      "cell_type": "code",
      "execution_count": null,
      "metadata": {
        "id": "WIdXiG_FuDSt"
      },
      "outputs": [],
      "source": [
        "import zipfile\n",
        "def inference(model, test_loader, device):\n",
        "    model.to(device)\n",
        "    model.eval()\n",
        "    \n",
        "    result_name_list = []\n",
        "    result_list = []\n",
        "    with torch.no_grad():\n",
        "        for sem, name in tqdm(iter(test_loader)):\n",
        "            sem = sem.float().to(device)\n",
        "            model_pred = model(sem)\n",
        "            \n",
        "            for pred, img_name in zip(model_pred, name):\n",
        "                pred = pred.unsqueeze(0)\n",
        "                # plt.imshow(pred.squeeze().to('cpu'),'gray')\n",
        "                pred = F.interpolate(pred, size=(72,48), mode='bicubic')\n",
        "                pred = pred.squeeze(0).cpu().numpy().transpose(1,2,0)*255.0\n",
        "                # print(pred.shape)\n",
        "                save_img_path = f'{img_name}'\n",
        "                #cv2.imwrite(save_img_path, pred)\n",
        "                result_name_list.append(save_img_path)\n",
        "                result_list.append(pred)\n",
        "                \n",
        "    os.makedirs('./submission', exist_ok=True)\n",
        "\n",
        "    return result_name_list, result_list\n"
      ]
    },
    {
      "cell_type": "code",
      "execution_count": null,
      "metadata": {
        "id": "p3B812e21JN2"
      },
      "outputs": [],
      "source": [
        "print(len(glob('/content/submission/submission/submission/*')))"
      ]
    },
    {
      "cell_type": "code",
      "execution_count": null,
      "metadata": {
        "id": "SY6_dLqU3eV6"
      },
      "outputs": [],
      "source": [
        "!rm -r /content/submission\n",
        "%cd /content"
      ]
    },
    {
      "cell_type": "code",
      "execution_count": null,
      "metadata": {
        "id": "PsMLG_qwuJkx"
      },
      "outputs": [],
      "source": [
        "loaded_netG_B2A.load_state_dict(torch.load(f\"/content/drive/MyDrive/Colab_Notebooks/Dacon/Samsung_AI_Challenge/CycleGAN/netG_B2A_itr0_epoch(max200_None_Resize)_{30}.pth\"))\n",
        "loaded_netG_B2A.to(device)\n",
        "loaded_netG_B2A.eval()\n",
        "loaded_netG_A2B.load_state_dict(torch.load(f\"/content/drive/MyDrive/Colab_Notebooks/Dacon/Samsung_AI_Challenge/CycleGAN/netG_A2B_itr0_epoch(max200_None_Resize)_{30}.pth\"))\n",
        "loaded_netG_A2B.to(device)\n",
        "loaded_netG_A2B.eval()\n",
        "\n",
        "result_name_list, result_list = inference(loaded_netG_A2B, test_dataloader, device)"
      ]
    },
    {
      "cell_type": "code",
      "execution_count": null,
      "metadata": {
        "id": "lPPeeLTslzF_"
      },
      "outputs": [],
      "source": [
        "!pwd"
      ]
    },
    {
      "cell_type": "code",
      "execution_count": null,
      "metadata": {
        "id": "hM_kLhCK6ZM3"
      },
      "outputs": [],
      "source": [
        "os.chdir('/content/submission')\n",
        "sub_imgs = []\n",
        "for name, pred_img in zip(result_name_list, result_list):\n",
        "    cv2.imwrite(name, pred_img)\n",
        "    sub_imgs.append(name)\n",
        "submission = zipfile.ZipFile(\"../submission.zip\", 'w')\n",
        "for path in sub_imgs:\n",
        "    submission.write(path)\n",
        "submission.close()"
      ]
    },
    {
      "cell_type": "code",
      "execution_count": null,
      "metadata": {
        "id": "WjRxBxvr9608"
      },
      "outputs": [],
      "source": [
        "print(len(glob('/content/submission/*')))"
      ]
    },
    {
      "cell_type": "code",
      "execution_count": null,
      "metadata": {
        "id": "9wunmQ8YbUUT"
      },
      "outputs": [],
      "source": [
        "from PIL import Image\n",
        "import matplotlib.pyplot as plt\n",
        "\n",
        "result_name_list = []\n",
        "result_list = []\n",
        "os.makedirs(\"./submission\", exist_ok=True)\n",
        "with torch.no_grad():\n",
        "    for img, name in tqdm(iter(test_dataloader)):\n",
        "        img = img.to(device).float()\n",
        "        img = img.unsqueeze(1)\n",
        "        prediction_image = loaded_netG_A2B(img)\n",
        "        for pred_img, name in zip(prediction_image, name):\n",
        "            pred_img.unsqueeze_(0)\n",
        "            pred_imge = F.interpolate(pred_img, (72,48), mode='bilinear')\n",
        "            plt.imshow(pred_img.squeeze().cpu(), 'gray')\n",
        "            # pred_img = pred_img.squeeze().cpu().detach().numpy()\n",
        "            pred_img = pred_img.squeeze().cpu().detach().numpy()\n",
        "            save_img_path = f'/content/submission/{name}'\n",
        "            cv2.imwrite(save_img_path, pred_img)"
      ]
    },
    {
      "cell_type": "code",
      "execution_count": null,
      "metadata": {
        "id": "NA7lT1sRfE5Y"
      },
      "outputs": [],
      "source": [
        "!zip -r /content/submission.zip /content/submission/*"
      ]
    },
    {
      "cell_type": "code",
      "execution_count": null,
      "metadata": {
        "id": "PrhK4ddplXs1"
      },
      "outputs": [],
      "source": [
        "!cp /content/submission.zip /content/drive/MyDrive/Data/submission.zip"
      ]
    },
    {
      "cell_type": "code",
      "execution_count": null,
      "metadata": {
        "id": "ajZRpj2ilyWT"
      },
      "outputs": [],
      "source": [
        "!cp /content/sample_submission.zip /content/drive/MyDrive/Data/sample_submission.zip"
      ]
    },
    {
      "cell_type": "markdown",
      "metadata": {
        "id": "IUskwMD7TJVs"
      },
      "source": []
    }
  ],
  "metadata": {
    "accelerator": "GPU",
    "colab": {
      "machine_shape": "hm",
      "provenance": []
    },
    "gpuClass": "standard",
    "kernelspec": {
      "display_name": "Python 3",
      "name": "python3"
    },
    "language_info": {
      "name": "python"
    }
  },
  "nbformat": 4,
  "nbformat_minor": 0
}